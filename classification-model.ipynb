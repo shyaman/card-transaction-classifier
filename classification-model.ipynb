{
 "cells": [
  {
   "cell_type": "code",
   "execution_count": 1,
   "metadata": {},
   "outputs": [
    {
     "name": "stdout",
     "output_type": "stream",
     "text": [
      "Requirement already satisfied: pandas in /home/studio-lab-user/.conda/envs/d2l/lib/python3.9/site-packages (1.4.2)\n",
      "Requirement already satisfied: numpy in /home/studio-lab-user/.conda/envs/d2l/lib/python3.9/site-packages (1.22.4)\n",
      "Requirement already satisfied: pandas_profiling in /home/studio-lab-user/.conda/envs/d2l/lib/python3.9/site-packages (3.2.0)\n",
      "Requirement already satisfied: openpyxl in /home/studio-lab-user/.conda/envs/d2l/lib/python3.9/site-packages (3.0.10)\n",
      "Requirement already satisfied: sklearn in /home/studio-lab-user/.conda/envs/d2l/lib/python3.9/site-packages (0.0)\n",
      "Requirement already satisfied: torch in /home/studio-lab-user/.conda/envs/d2l/lib/python3.9/site-packages (1.8.1)\n",
      "Requirement already satisfied: transformers in /home/studio-lab-user/.conda/envs/d2l/lib/python3.9/site-packages (4.20.1)\n",
      "Requirement already satisfied: iso18245 in /home/studio-lab-user/.conda/envs/d2l/lib/python3.9/site-packages (1.2.0)\n",
      "Requirement already satisfied: python-dateutil>=2.8.1 in /home/studio-lab-user/.conda/envs/d2l/lib/python3.9/site-packages (from pandas) (2.8.2)\n",
      "Requirement already satisfied: pytz>=2020.1 in /home/studio-lab-user/.conda/envs/d2l/lib/python3.9/site-packages (from pandas) (2022.1)\n",
      "Requirement already satisfied: markupsafe~=2.1.1 in /home/studio-lab-user/.conda/envs/d2l/lib/python3.9/site-packages (from pandas_profiling) (2.1.1)\n",
      "Requirement already satisfied: scipy>=1.4.1 in /home/studio-lab-user/.conda/envs/d2l/lib/python3.9/site-packages (from pandas_profiling) (1.8.1)\n",
      "Requirement already satisfied: visions[type_image_path]==0.7.4 in /home/studio-lab-user/.conda/envs/d2l/lib/python3.9/site-packages (from pandas_profiling) (0.7.4)\n",
      "Requirement already satisfied: seaborn>=0.10.1 in /home/studio-lab-user/.conda/envs/d2l/lib/python3.9/site-packages (from pandas_profiling) (0.11.2)\n",
      "Requirement already satisfied: jinja2>=2.11.1 in /home/studio-lab-user/.conda/envs/d2l/lib/python3.9/site-packages (from pandas_profiling) (3.1.2)\n",
      "Requirement already satisfied: missingno>=0.4.2 in /home/studio-lab-user/.conda/envs/d2l/lib/python3.9/site-packages (from pandas_profiling) (0.5.1)\n",
      "Requirement already satisfied: phik>=0.11.1 in /home/studio-lab-user/.conda/envs/d2l/lib/python3.9/site-packages (from pandas_profiling) (0.12.2)\n",
      "Requirement already satisfied: tqdm>=4.48.2 in /home/studio-lab-user/.conda/envs/d2l/lib/python3.9/site-packages (from pandas_profiling) (4.64.0)\n",
      "Requirement already satisfied: multimethod>=1.4 in /home/studio-lab-user/.conda/envs/d2l/lib/python3.9/site-packages (from pandas_profiling) (1.8)\n",
      "Requirement already satisfied: PyYAML>=5.0.0 in /home/studio-lab-user/.conda/envs/d2l/lib/python3.9/site-packages (from pandas_profiling) (6.0)\n",
      "Requirement already satisfied: htmlmin>=0.1.12 in /home/studio-lab-user/.conda/envs/d2l/lib/python3.9/site-packages (from pandas_profiling) (0.1.12)\n",
      "Requirement already satisfied: tangled-up-in-unicode==0.2.0 in /home/studio-lab-user/.conda/envs/d2l/lib/python3.9/site-packages (from pandas_profiling) (0.2.0)\n",
      "Requirement already satisfied: requests>=2.24.0 in /home/studio-lab-user/.conda/envs/d2l/lib/python3.9/site-packages (from pandas_profiling) (2.28.0)\n",
      "Requirement already satisfied: joblib~=1.1.0 in /home/studio-lab-user/.conda/envs/d2l/lib/python3.9/site-packages (from pandas_profiling) (1.1.0)\n",
      "Requirement already satisfied: matplotlib>=3.2.0 in /home/studio-lab-user/.conda/envs/d2l/lib/python3.9/site-packages (from pandas_profiling) (3.5.2)\n",
      "Requirement already satisfied: pydantic>=1.8.1 in /home/studio-lab-user/.conda/envs/d2l/lib/python3.9/site-packages (from pandas_profiling) (1.9.1)\n",
      "Requirement already satisfied: networkx>=2.4 in /home/studio-lab-user/.conda/envs/d2l/lib/python3.9/site-packages (from visions[type_image_path]==0.7.4->pandas_profiling) (2.8.4)\n",
      "Requirement already satisfied: attrs>=19.3.0 in /home/studio-lab-user/.conda/envs/d2l/lib/python3.9/site-packages (from visions[type_image_path]==0.7.4->pandas_profiling) (21.4.0)\n",
      "Requirement already satisfied: imagehash in /home/studio-lab-user/.conda/envs/d2l/lib/python3.9/site-packages (from visions[type_image_path]==0.7.4->pandas_profiling) (4.2.1)\n",
      "Requirement already satisfied: Pillow in /home/studio-lab-user/.conda/envs/d2l/lib/python3.9/site-packages (from visions[type_image_path]==0.7.4->pandas_profiling) (9.1.1)\n",
      "Requirement already satisfied: et-xmlfile in /home/studio-lab-user/.conda/envs/d2l/lib/python3.9/site-packages (from openpyxl) (1.1.0)\n",
      "Requirement already satisfied: scikit-learn in /home/studio-lab-user/.conda/envs/d2l/lib/python3.9/site-packages (from sklearn) (1.1.1)\n",
      "Requirement already satisfied: typing-extensions in /home/studio-lab-user/.conda/envs/d2l/lib/python3.9/site-packages (from torch) (4.2.0)\n",
      "Requirement already satisfied: packaging>=20.0 in /home/studio-lab-user/.conda/envs/d2l/lib/python3.9/site-packages (from transformers) (21.3)\n",
      "Requirement already satisfied: filelock in /home/studio-lab-user/.conda/envs/d2l/lib/python3.9/site-packages (from transformers) (3.7.1)\n",
      "Requirement already satisfied: regex!=2019.12.17 in /home/studio-lab-user/.conda/envs/d2l/lib/python3.9/site-packages (from transformers) (2022.6.2)\n",
      "Requirement already satisfied: huggingface-hub<1.0,>=0.1.0 in /home/studio-lab-user/.conda/envs/d2l/lib/python3.9/site-packages (from transformers) (0.8.1)\n",
      "Requirement already satisfied: tokenizers!=0.11.3,<0.13,>=0.11.1 in /home/studio-lab-user/.conda/envs/d2l/lib/python3.9/site-packages (from transformers) (0.12.1)\n",
      "Requirement already satisfied: pyparsing>=2.2.1 in /home/studio-lab-user/.conda/envs/d2l/lib/python3.9/site-packages (from matplotlib>=3.2.0->pandas_profiling) (3.0.9)\n",
      "Requirement already satisfied: kiwisolver>=1.0.1 in /home/studio-lab-user/.conda/envs/d2l/lib/python3.9/site-packages (from matplotlib>=3.2.0->pandas_profiling) (1.4.3)\n",
      "Requirement already satisfied: fonttools>=4.22.0 in /home/studio-lab-user/.conda/envs/d2l/lib/python3.9/site-packages (from matplotlib>=3.2.0->pandas_profiling) (4.33.3)\n",
      "Requirement already satisfied: cycler>=0.10 in /home/studio-lab-user/.conda/envs/d2l/lib/python3.9/site-packages (from matplotlib>=3.2.0->pandas_profiling) (0.11.0)\n",
      "Requirement already satisfied: six>=1.5 in /home/studio-lab-user/.conda/envs/d2l/lib/python3.9/site-packages (from python-dateutil>=2.8.1->pandas) (1.16.0)\n",
      "Requirement already satisfied: certifi>=2017.4.17 in /home/studio-lab-user/.conda/envs/d2l/lib/python3.9/site-packages (from requests>=2.24.0->pandas_profiling) (2022.6.15)\n",
      "Requirement already satisfied: urllib3<1.27,>=1.21.1 in /home/studio-lab-user/.conda/envs/d2l/lib/python3.9/site-packages (from requests>=2.24.0->pandas_profiling) (1.26.9)\n",
      "Requirement already satisfied: charset-normalizer~=2.0.0 in /home/studio-lab-user/.conda/envs/d2l/lib/python3.9/site-packages (from requests>=2.24.0->pandas_profiling) (2.0.12)\n",
      "Requirement already satisfied: idna<4,>=2.5 in /home/studio-lab-user/.conda/envs/d2l/lib/python3.9/site-packages (from requests>=2.24.0->pandas_profiling) (3.3)\n",
      "Requirement already satisfied: threadpoolctl>=2.0.0 in /home/studio-lab-user/.conda/envs/d2l/lib/python3.9/site-packages (from scikit-learn->sklearn) (3.1.0)\n",
      "Requirement already satisfied: PyWavelets in /home/studio-lab-user/.conda/envs/d2l/lib/python3.9/site-packages (from imagehash->visions[type_image_path]==0.7.4->pandas_profiling) (1.3.0)\n"
     ]
    }
   ],
   "source": [
    "# Installing required packages\n",
    "%pip install pandas numpy pandas_profiling openpyxl sklearn torch transformers iso18245"
   ]
  },
  {
   "cell_type": "code",
   "execution_count": 1,
   "metadata": {},
   "outputs": [],
   "source": [
    "import warnings\n",
    "warnings.filterwarnings(\"ignore\")\n",
    "\n",
    "seed = 43"
   ]
  },
  {
   "cell_type": "markdown",
   "metadata": {},
   "source": [
    "### Loading and Preliminary analysis of the dataset"
   ]
  },
  {
   "cell_type": "code",
   "execution_count": 17,
   "metadata": {},
   "outputs": [],
   "source": [
    "# importing required libraries\n",
    "import pandas as pd\n",
    "import numpy as np\n",
    "from pandas_profiling import ProfileReport\n",
    "\n",
    "np.random.seed(seed)"
   ]
  },
  {
   "cell_type": "code",
   "execution_count": 18,
   "metadata": {},
   "outputs": [],
   "source": [
    "train_set = pd.read_excel(\"data/dbb4c4ff1f31-CAC+2022_Training+Data+Set+New.xlsx\",dtype={'default_brand':str, 'qrated_brand':str , 'coalesced_brand':str})"
   ]
  },
  {
   "cell_type": "code",
   "execution_count": 19,
   "metadata": {},
   "outputs": [],
   "source": [
    "profile = ProfileReport(train_set)\n",
    "profile.to_file(\"info/profile_train_test_set.html\")"
   ]
  },
  {
   "cell_type": "markdown",
   "metadata": {},
   "source": [
    "### Preprocessings"
   ]
  },
  {
   "cell_type": "code",
   "execution_count": 20,
   "metadata": {},
   "outputs": [],
   "source": [
    "x_train = train_set.drop([\"cdf_seq_no\",\"Category\"], axis=1)\n",
    "y_train = train_set[\"Category\"]"
   ]
  },
  {
   "cell_type": "code",
   "execution_count": 21,
   "metadata": {},
   "outputs": [],
   "source": [
    "x_train[\"merchant_cat_code\"].fillna(0, inplace=True)\n",
    "\n",
    "# scale merchant_cat_code (range 0-9999) to 0-0.9999 \n",
    "x_train[\"merchant_cat_code\"] = x_train[\"merchant_cat_code\"]/10000"
   ]
  },
  {
   "cell_type": "code",
   "execution_count": 22,
   "metadata": {},
   "outputs": [],
   "source": [
    "from sklearn.preprocessing import LabelEncoder\n",
    "label_encoder = LabelEncoder()\n",
    "y_train_encoded = label_encoder.fit_transform(y_train)"
   ]
  },
  {
   "cell_type": "markdown",
   "metadata": {},
   "source": [
    "### Baseline model"
   ]
  },
  {
   "cell_type": "code",
   "execution_count": 8,
   "metadata": {},
   "outputs": [],
   "source": [
    "# randomly assign classes \n",
    "y_pred_rand = np.random.randint(0,len(label_encoder.classes_)-1,len(y_train))"
   ]
  },
  {
   "cell_type": "code",
   "execution_count": 9,
   "metadata": {},
   "outputs": [
    {
     "name": "stdout",
     "output_type": "stream",
     "text": [
      "                                           precision    recall  f1-score   support\n",
      "\n",
      "                   Communication Services       0.01      0.10      0.01       282\n",
      "                                Education       0.01      0.10      0.02       445\n",
      "                            Entertainment       0.27      0.10      0.15     11255\n",
      "                                  Finance       0.00      0.12      0.01       185\n",
      "            Health and Community Services       0.11      0.11      0.11      4157\n",
      "           Property and Business Services       0.03      0.12      0.05      1095\n",
      "                             Retail Trade       0.34      0.11      0.17     13500\n",
      "                    Services to Transport       0.06      0.11      0.07      2317\n",
      "Trade, Professional and Personal Services       0.14      0.11      0.13      5275\n",
      "                                   Travel       0.00      0.00      0.00      1489\n",
      "\n",
      "                                 accuracy                           0.11     40000\n",
      "                                macro avg       0.10      0.10      0.07     40000\n",
      "                             weighted avg       0.22      0.11      0.13     40000\n",
      "\n"
     ]
    }
   ],
   "source": [
    "# check accuracy of the random assignment\n",
    "from sklearn.metrics import classification_report\n",
    "print(classification_report(y_train_encoded, y_pred_rand, target_names=label_encoder.classes_))\n"
   ]
  },
  {
   "cell_type": "markdown",
   "metadata": {},
   "source": [
    "## Simple ML algo run"
   ]
  },
  {
   "cell_type": "markdown",
   "metadata": {},
   "source": [
    "### Using only mCatCode"
   ]
  },
  {
   "cell_type": "code",
   "execution_count": 9,
   "metadata": {},
   "outputs": [],
   "source": [
    "# use mCat code as the only feature (since it is higly correlated with the target)\n",
    "x_selected = x_train[[\"merchant_cat_code\"]]"
   ]
  },
  {
   "cell_type": "code",
   "execution_count": 12,
   "metadata": {},
   "outputs": [
    {
     "name": "stdout",
     "output_type": "stream",
     "text": [
      "Accuracy: 0.63 (+/- 0.01)\n"
     ]
    }
   ],
   "source": [
    "from sklearn import svm\n",
    "from sklearn.model_selection import cross_val_score\n",
    "\n",
    "clf = svm.SVC(kernel='rbf', C=1, gamma=0.1)\n",
    "scores = cross_val_score(clf, x_selected, y_train_encoded, cv=5, n_jobs=-1)\n",
    "print(\"Accuracy: %0.2f (+/- %0.2f)\" % (scores.mean(), scores.std() * 2))"
   ]
  },
  {
   "cell_type": "code",
   "execution_count": 8,
   "metadata": {},
   "outputs": [
    {
     "name": "stdout",
     "output_type": "stream",
     "text": [
      "Accuracy: 0.34 (+/- 0.00)\n"
     ]
    }
   ],
   "source": [
    "# import naive bayes\n",
    "from sklearn.naive_bayes import MultinomialNB\n",
    "\n",
    "clf = MultinomialNB()\n",
    "scores = cross_val_score(clf, x_selected, y_train_encoded, cv=5, n_jobs=-1)\n",
    "print(\"Accuracy: %0.2f (+/- %0.2f)\" % (scores.mean(), scores.std() * 2))"
   ]
  },
  {
   "cell_type": "code",
   "execution_count": 13,
   "metadata": {},
   "outputs": [
    {
     "name": "stdout",
     "output_type": "stream",
     "text": [
      "Accuracy: 0.63 (+/- 0.01)\n"
     ]
    }
   ],
   "source": [
    "import xgboost as xgb\n",
    "from sklearn.model_selection import train_test_split\n",
    "\n",
    "clf = xgb.XGBClassifier(max_depth=7, n_estimators=1000, objective='multi:softprob')\n",
    "\n",
    "scores = cross_val_score(clf, x_selected, y_train_encoded, cv=5, n_jobs=2)\n",
    "print(\"Accuracy: %0.2f (+/- %0.2f)\" % (scores.mean(), scores.std() * 2))\n"
   ]
  },
  {
   "cell_type": "markdown",
   "metadata": {},
   "source": [
    "### Using mCatCode and payment category"
   ]
  },
  {
   "cell_type": "code",
   "execution_count": 44,
   "metadata": {},
   "outputs": [],
   "source": [
    "# one-hot encoding of payment_category\n",
    "from sklearn.preprocessing import OneHotEncoder\n",
    "oe = OneHotEncoder()\n",
    "x_payment_cat_encoded = pd.DataFrame(oe.fit_transform(x_train[[\"payment_category\"]]).toarray(), columns=oe.categories_[0])\n",
    "x_selected = x_train[[\"merchant_cat_code\"]].join(x_payment_cat_encoded)"
   ]
  },
  {
   "cell_type": "code",
   "execution_count": 47,
   "metadata": {},
   "outputs": [
    {
     "name": "stdout",
     "output_type": "stream",
     "text": [
      "Accuracy: 0.63 (+/- 0.01)\n"
     ]
    }
   ],
   "source": [
    "from sklearn import svm\n",
    "from sklearn.model_selection import cross_val_score\n",
    "\n",
    "clf = svm.SVC(kernel='rbf', C=1, gamma=0.1)\n",
    "scores = cross_val_score(clf, x_selected, y_train_encoded, cv=5, n_jobs=-1)\n",
    "print(\"Accuracy: %0.2f (+/- %0.2f)\" % (scores.mean(), scores.std() * 2))"
   ]
  },
  {
   "cell_type": "code",
   "execution_count": 48,
   "metadata": {},
   "outputs": [
    {
     "name": "stdout",
     "output_type": "stream",
     "text": [
      "Accuracy: 0.63 (+/- 0.01)\n"
     ]
    }
   ],
   "source": [
    "import xgboost as xgb\n",
    "from sklearn.model_selection import train_test_split\n",
    "\n",
    "clf = xgb.XGBClassifier(max_depth=7, n_estimators=1000, objective='multi:softprob')\n",
    "\n",
    "scores = cross_val_score(clf, x_selected, y_train_encoded, cv=5, n_jobs=2)\n",
    "print(\"Accuracy: %0.2f (+/- %0.2f)\" % (scores.mean(), scores.std() * 2))\n"
   ]
  },
  {
   "cell_type": "markdown",
   "metadata": {},
   "source": [
    "### Using all features"
   ]
  },
  {
   "cell_type": "code",
   "execution_count": 55,
   "metadata": {},
   "outputs": [],
   "source": [
    "from sklearn.preprocessing import OneHotEncoder\n",
    "oe = OneHotEncoder()\n",
    "\n",
    "x_encoded = pd.DataFrame(oe.fit_transform(x_train[[\"payment_category\",\"sor\",\"db_cr_cd\",\"is_international\"]]).toarray(), columns=oe.get_feature_names())\n",
    "x_selected = x_train[[\"merchant_cat_code\",\"amt\"]].join(x_encoded)"
   ]
  },
  {
   "cell_type": "code",
   "execution_count": 57,
   "metadata": {},
   "outputs": [
    {
     "name": "stdout",
     "output_type": "stream",
     "text": [
      "Accuracy: 0.60 (+/- 0.01)\n"
     ]
    }
   ],
   "source": [
    "from sklearn import svm\n",
    "from sklearn.model_selection import cross_val_score\n",
    "\n",
    "clf = svm.SVC(kernel='rbf', C=1, gamma=0.1)\n",
    "scores = cross_val_score(clf, x_selected, y_train_encoded, cv=5, n_jobs=-1)\n",
    "print(\"Accuracy: %0.2f (+/- %0.2f)\" % (scores.mean(), scores.std() * 2))"
   ]
  },
  {
   "cell_type": "markdown",
   "metadata": {},
   "source": [
    "### Using payCat, merCatCode, amt"
   ]
  },
  {
   "cell_type": "code",
   "execution_count": 58,
   "metadata": {},
   "outputs": [],
   "source": [
    "from sklearn.preprocessing import OneHotEncoder\n",
    "oe = OneHotEncoder()\n",
    "\n",
    "x_encoded = pd.DataFrame(oe.fit_transform(x_train[[\"payment_category\"]]).toarray(), columns=oe.get_feature_names())\n",
    "x_selected = x_train[[\"merchant_cat_code\",\"amt\"]].join(x_encoded)"
   ]
  },
  {
   "cell_type": "code",
   "execution_count": 59,
   "metadata": {},
   "outputs": [
    {
     "name": "stdout",
     "output_type": "stream",
     "text": [
      "Accuracy: 0.60 (+/- 0.01)\n"
     ]
    }
   ],
   "source": [
    "from sklearn import svm\n",
    "from sklearn.model_selection import cross_val_score\n",
    "\n",
    "clf = svm.SVC(kernel='rbf', C=1, gamma=0.1)\n",
    "scores = cross_val_score(clf, x_selected, y_train_encoded, cv=5, n_jobs=-1)\n",
    "print(\"Accuracy: %0.2f (+/- %0.2f)\" % (scores.mean(), scores.std() * 2))"
   ]
  },
  {
   "cell_type": "markdown",
   "metadata": {},
   "source": [
    "### inspect rows with mCatCode null"
   ]
  },
  {
   "cell_type": "code",
   "execution_count": null,
   "metadata": {},
   "outputs": [],
   "source": [
    "train_set[train_set['merchant_cat_code'].isna()].sample(frac=1)"
   ]
  },
  {
   "cell_type": "markdown",
   "metadata": {
    "jp-MarkdownHeadingCollapsed": true,
    "tags": []
   },
   "source": [
    "## Neural Nets"
   ]
  },
  {
   "cell_type": "markdown",
   "metadata": {},
   "source": [
    "### BERT features extractor"
   ]
  },
  {
   "cell_type": "code",
   "execution_count": 7,
   "metadata": {},
   "outputs": [
    {
     "name": "stdout",
     "output_type": "stream",
     "text": [
      "There are 1 GPU(s) available.\n",
      "We will use the GPU: Tesla T4\n"
     ]
    }
   ],
   "source": [
    "import torch\n",
    "\n",
    "# If there's a GPU available...\n",
    "if torch.cuda.is_available():    \n",
    "\n",
    "    # Tell PyTorch to use the GPU.    \n",
    "    device = torch.device(\"cuda\")\n",
    "\n",
    "    print('There are %d GPU(s) available.' % torch.cuda.device_count())\n",
    "\n",
    "    print('We will use the GPU:', torch.cuda.get_device_name(0))\n",
    "\n",
    "# If not...\n",
    "else:\n",
    "    print('No GPU available, using the CPU instead.')\n",
    "    device = torch.device(\"cpu\")"
   ]
  },
  {
   "cell_type": "code",
   "execution_count": 206,
   "metadata": {},
   "outputs": [
    {
     "name": "stdout",
     "output_type": "stream",
     "text": [
      "Loading BERT tokenizer...\n"
     ]
    }
   ],
   "source": [
    "from transformers import BertTokenizer\n",
    "\n",
    "# Load the BERT tokenizer.\n",
    "print('Loading BERT tokenizer...')\n",
    "tokenizer = BertTokenizer.from_pretrained('bert-base-uncased', do_lower_case=True)"
   ]
  },
  {
   "cell_type": "code",
   "execution_count": 207,
   "metadata": {},
   "outputs": [
    {
     "name": "stderr",
     "output_type": "stream",
     "text": [
      "Some weights of the model checkpoint at bert-base-uncased were not used when initializing BertForSequenceClassification: ['cls.predictions.transform.LayerNorm.weight', 'cls.predictions.bias', 'cls.predictions.transform.dense.weight', 'cls.predictions.transform.dense.bias', 'cls.seq_relationship.bias', 'cls.predictions.decoder.weight', 'cls.predictions.transform.LayerNorm.bias', 'cls.seq_relationship.weight']\n",
      "- This IS expected if you are initializing BertForSequenceClassification from the checkpoint of a model trained on another task or with another architecture (e.g. initializing a BertForSequenceClassification model from a BertForPreTraining model).\n",
      "- This IS NOT expected if you are initializing BertForSequenceClassification from the checkpoint of a model that you expect to be exactly identical (initializing a BertForSequenceClassification model from a BertForSequenceClassification model).\n",
      "Some weights of BertForSequenceClassification were not initialized from the model checkpoint at bert-base-uncased and are newly initialized: ['classifier.bias', 'classifier.weight']\n",
      "You should probably TRAIN this model on a down-stream task to be able to use it for predictions and inference.\n"
     ]
    }
   ],
   "source": [
    "from transformers import BertForSequenceClassification\n",
    "\n",
    "# Load BertForSequenceClassification, the pretrained BERT model \n",
    "model = BertForSequenceClassification.from_pretrained(\n",
    "    \"bert-base-uncased\", # Use the 12-layer BERT model, with an uncased vocab.\n",
    "    num_labels = 10,\n",
    ")\n",
    "\n",
    "# Tell pytorch to run this model on the GPU.\n",
    "desc = model.cuda()"
   ]
  },
  {
   "cell_type": "code",
   "execution_count": 208,
   "metadata": {},
   "outputs": [],
   "source": [
    "# Larger batch sizes tend to be better, and we can fit this in memory.\n",
    "batch_size = 32\n",
    "\n",
    "# I used a smaller learning rate to combat over-fitting that I was seeing in the\n",
    "# validation loss. I could probably try even smaller.\n",
    "learning_rate = 1e-5\n",
    "\n",
    "# Number of training epochs. \n",
    "epochs = 4"
   ]
  },
  {
   "cell_type": "code",
   "execution_count": 209,
   "metadata": {},
   "outputs": [],
   "source": [
    "import matplotlib.pyplot as plt\n",
    "%matplotlib inline\n",
    "\n",
    "def maxLen(concatenated_brand):\n",
    "    len_list = []\n",
    "    # For every sentence...\n",
    "    for sent in concatenated_brand:\n",
    "        # Tokenize the text and add `[CLS]` and `[SEP]` tokens.\n",
    "        input_ids = tokenizer.encode(sent, add_special_tokens=True)\n",
    "        len_list.append(len(input_ids))\n",
    "\n",
    "    # mean, max, min of len_list\n",
    "    print('Mean sentence length: ', np.mean(len_list))\n",
    "    print('Max sentence length: ', np.max(len_list))\n",
    "    print('Min sentence length: ', np.min(len_list))\n",
    "    plt.hist(len_list)\n",
    "    plt.xlabel('Sentence length')\n",
    "    plt.ylabel('Count')\n",
    "    plt.title('Sentence length distribution')\n",
    "    plt.show()\n",
    "    return"
   ]
  },
  {
   "cell_type": "markdown",
   "metadata": {
    "tags": []
   },
   "source": [
    "### default_brand, qrated_brand, coalesced_brand"
   ]
  },
  {
   "cell_type": "code",
   "execution_count": 210,
   "metadata": {},
   "outputs": [],
   "source": [
    "# concat default_brand, qrated_brand and coalesced_brand\n",
    "concatenated_brand = x_train[\"default_brand\"] + \" \" + x_train[\"qrated_brand\"] + \" \" + x_train[\"coalesced_brand\"]\n",
    "concatenated_brand.fillna(\"\", inplace=True)"
   ]
  },
  {
   "cell_type": "code",
   "execution_count": 211,
   "metadata": {
    "tags": []
   },
   "outputs": [
    {
     "name": "stdout",
     "output_type": "stream",
     "text": [
      "Mean sentence length:  13.2321\n",
      "Max sentence length:  61\n",
      "Min sentence length:  2\n"
     ]
    },
    {
     "data": {
      "image/png": "[encoded data removed]",
      "text/plain": [
       "<Figure size 432x288 with 1 Axes>"
      ]
     },
     "metadata": {
      "needs_background": "light"
     },
     "output_type": "display_data"
    }
   ],
   "source": [
    "maxLen(concatenated_brand)"
   ]
  },
  {
   "cell_type": "code",
   "execution_count": 212,
   "metadata": {},
   "outputs": [],
   "source": [
    "max_len = 50"
   ]
  },
  {
   "cell_type": "markdown",
   "metadata": {},
   "source": [
    "### default_brand, qrated_brand and coalesced_brand with mCatCode"
   ]
  },
  {
   "cell_type": "code",
   "execution_count": 13,
   "metadata": {},
   "outputs": [],
   "source": [
    "# concat default_brand, qrated_brand and coalesced_brand\n",
    "concatenated_brand = x_train[\"merchant_cat_code\"].astype(str) + \" \" + x_train[\"default_brand\"] + \" \" + x_train[\"qrated_brand\"] + \" \" + x_train[\"coalesced_brand\"]\n",
    "concatenated_brand.fillna(\"\", inplace=True)"
   ]
  },
  {
   "cell_type": "code",
   "execution_count": 14,
   "metadata": {},
   "outputs": [
    {
     "name": "stdout",
     "output_type": "stream",
     "text": [
      "Max sentence length:  64\n",
      "Mean sentence length:  16.65485\n",
      "Max sentence length:  64\n",
      "Min sentence length:  2\n"
     ]
    },
    {
     "data": {
      "image/png": "[encoded data removed]",
      "text/plain": [
       "<Figure size 432x288 with 1 Axes>"
      ]
     },
     "metadata": {
      "needs_background": "light"
     },
     "output_type": "display_data"
    }
   ],
   "source": [
    "maxLen(concatenated_brand)"
   ]
  },
  {
   "cell_type": "code",
   "execution_count": 15,
   "metadata": {},
   "outputs": [],
   "source": [
    "max_len = 50"
   ]
  },
  {
   "cell_type": "markdown",
   "metadata": {},
   "source": [
    "### merchant_cat_code,default_brand, qrated_brand and coalesced_brand and translated merchant_cat_code"
   ]
  },
  {
   "cell_type": "code",
   "execution_count": null,
   "metadata": {},
   "outputs": [],
   "source": [
    "import iso18245\n",
    "\n",
    "def convert(x):\n",
    "    try:\n",
    "        return iso18245.get_mcc(str(x).zfill(4)).iso_description\n",
    "    except:\n",
    "        return \"\"\n",
    "    \n",
    "mcc_desc = x_train[\"merchant_cat_code\"].astype(int).apply(lambda x: convert(x) )\n"
   ]
  },
  {
   "cell_type": "code",
   "execution_count": null,
   "metadata": {},
   "outputs": [],
   "source": [
    "# concat merchant_cat_code,default_brand, qrated_brand and coalesced_brand\n",
    "concatenated_brand = x_train[\"merchant_cat_code\"].astype(str) + \" \" + mcc_desc + \" \" + x_train[\"default_brand\"] + \" \" + x_train[\"qrated_brand\"] + \" \" + x_train[\"coalesced_brand\"]\n",
    "concatenated_brand.fillna(\"\", inplace=True)"
   ]
  },
  {
   "cell_type": "code",
   "execution_count": null,
   "metadata": {},
   "outputs": [],
   "source": [
    "maxLen(concatenated_brand)"
   ]
  },
  {
   "cell_type": "code",
   "execution_count": null,
   "metadata": {},
   "outputs": [],
   "source": [
    "max_len = 55"
   ]
  },
  {
   "cell_type": "markdown",
   "metadata": {},
   "source": [
    "### Train"
   ]
  },
  {
   "cell_type": "code",
   "execution_count": 213,
   "metadata": {},
   "outputs": [
    {
     "name": "stdout",
     "output_type": "stream",
     "text": [
      "Encoding...\n",
      "DONE.\n"
     ]
    }
   ],
   "source": [
    "# Tokenize all of the sentences and map the tokens to thier word IDs.\n",
    "input_ids = []\n",
    "attention_masks = []\n",
    "\n",
    "print('Encoding...')\n",
    "\n",
    "# For every sentence...\n",
    "for sent in concatenated_brand:\n",
    "    # `encode_plus` will:\n",
    "    #   (1) Tokenize the sentence.\n",
    "    #   (2) Prepend the `[CLS]` token to the start.\n",
    "    #   (3) Append the `[SEP]` token to the end.\n",
    "    #   (4) Map tokens to their IDs.\n",
    "    #   (5) Pad or truncate the sentence to `max_length`\n",
    "    #   (6) Create attention masks for [PAD] tokens.\n",
    "    encoded_dict = tokenizer.encode_plus(\n",
    "                        sent,                      # Sentence to encode.\n",
    "                        add_special_tokens = True, # Add '[CLS]' and '[SEP]'\n",
    "                        max_length = max_len,           # Pad & truncate all sentences.\n",
    "                        truncation = True,\n",
    "                        padding = 'max_length',\n",
    "                        return_attention_mask = True,   # Construct attn. masks.\n",
    "                        return_tensors = 'pt',     # Return pytorch tensors.\n",
    "                )\n",
    "    \n",
    "    # Add the encoded sentence to the list.    \n",
    "    input_ids.append(encoded_dict['input_ids'])\n",
    "    \n",
    "    # And its attention mask (simply differentiates padding from non-padding).\n",
    "    attention_masks.append(encoded_dict['attention_mask'])\n",
    "\n",
    "# Convert the lists into tensors.\n",
    "input_ids = torch.cat(input_ids, dim=0)\n",
    "attention_masks = torch.cat(attention_masks, dim=0)\n",
    "labels = torch.tensor(y_train_encoded)\n",
    "\n",
    "print('DONE.')"
   ]
  },
  {
   "cell_type": "code",
   "execution_count": 214,
   "metadata": {},
   "outputs": [
    {
     "name": "stdout",
     "output_type": "stream",
     "text": [
      "  Training size: 32,000\n",
      "Validation size: 4,000\n",
      "      Test size: 4,000\n"
     ]
    }
   ],
   "source": [
    "import random\n",
    "# First, calculate the split sizes. 80% training, 10% validation, 10% test.\n",
    "train_size = int(0.8 * len(train_set))\n",
    "val_size = int(0.1 * len(train_set))\n",
    "test_size = len(train_set) - (train_size + val_size)\n",
    "\n",
    "# Sanity check the sizes.\n",
    "assert((train_size + val_size + test_size) == len(train_set))\n",
    "\n",
    "# Create a list of indeces for all of the samples in the dataset.\n",
    "indeces = np.arange(0, len(train_set))\n",
    "\n",
    "# Shuffle the indeces randomly.\n",
    "random.shuffle(indeces)\n",
    "\n",
    "# Get a list of indeces for each of the splits.\n",
    "train_idx = indeces[0:train_size]\n",
    "val_idx = indeces[train_size:(train_size + val_size)]\n",
    "test_idx = indeces[(train_size + val_size):]\n",
    "\n",
    "# Sanity check\n",
    "assert(len(train_idx) == train_size)\n",
    "assert(len(test_idx) == test_size)\n",
    "\n",
    "# With these lists, we can now select the corresponding dataframe rows using, \n",
    "# e.g., train_df = data_df.iloc[train_idx] \n",
    "\n",
    "print('  Training size: {:,}'.format(train_size))\n",
    "print('Validation size: {:,}'.format(val_size))\n",
    "print('      Test size: {:,}'.format(test_size))"
   ]
  },
  {
   "cell_type": "code",
   "execution_count": 215,
   "metadata": {},
   "outputs": [],
   "source": [
    "from torch.utils.data import TensorDataset\n",
    "\n",
    "# Split the samples, and create TensorDatasets for each split. \n",
    "train_dataset = TensorDataset(input_ids[train_idx], attention_masks[train_idx], labels[train_idx])\n",
    "val_dataset = TensorDataset(input_ids[val_idx], attention_masks[val_idx], labels[val_idx])\n",
    "test_dataset = TensorDataset(input_ids[test_idx], attention_masks[test_idx], labels[test_idx])"
   ]
  },
  {
   "cell_type": "code",
   "execution_count": 216,
   "metadata": {},
   "outputs": [],
   "source": [
    "from torch.utils.data import DataLoader, RandomSampler, SequentialSampler\n",
    "\n",
    "# Create the DataLoaders for our training and validation sets.\n",
    "# We'll take training samples in random order. \n",
    "train_dataloader = DataLoader(\n",
    "            train_dataset,  # The training samples.\n",
    "            sampler = RandomSampler(train_dataset), # Select batches randomly\n",
    "            batch_size = batch_size # Trains with this batch size.\n",
    "        )\n",
    "\n",
    "# For validation the order doesn't matter, so we'll just read them sequentially.\n",
    "validation_dataloader = DataLoader(\n",
    "            val_dataset, # The validation samples.\n",
    "            sampler = SequentialSampler(val_dataset), # Pull out batches sequentially.\n",
    "            batch_size = batch_size # Evaluate with this batch size.\n",
    "        )"
   ]
  },
  {
   "cell_type": "code",
   "execution_count": 217,
   "metadata": {},
   "outputs": [],
   "source": [
    "from transformers import AdamW\n",
    "\n",
    "# Note: AdamW is a class from the huggingface library (as opposed to pytorch) \n",
    "# I believe the 'W' stands for 'Weight Decay fix\"\n",
    "optimizer = AdamW(model.parameters(),\n",
    "                  lr = learning_rate, \n",
    "                  eps = 1e-8 \n",
    "                )"
   ]
  },
  {
   "cell_type": "code",
   "execution_count": 218,
   "metadata": {},
   "outputs": [],
   "source": [
    "from transformers import get_linear_schedule_with_warmup\n",
    "\n",
    "# Total number of training steps is [number of batches] x [number of epochs]. \n",
    "# (Note that this is not the same as the number of training samples!)\n",
    "total_steps = len(train_dataloader) * epochs\n",
    "\n",
    "# Create the learning rate scheduler.\n",
    "scheduler = get_linear_schedule_with_warmup(optimizer, \n",
    "                                            num_warmup_steps = 0, # Default value in run_glue.py\n",
    "                                            num_training_steps = total_steps)"
   ]
  },
  {
   "cell_type": "code",
   "execution_count": 219,
   "metadata": {},
   "outputs": [],
   "source": [
    "import numpy as np\n",
    "\n",
    "# Function to calculate the accuracy of our predictions vs labels\n",
    "def flat_accuracy(preds, labels):\n",
    "    pred_flat = np.argmax(preds, axis=1).flatten()\n",
    "    labels_flat = labels.flatten()\n",
    "    return np.sum(pred_flat == labels_flat) / len(labels_flat)"
   ]
  },
  {
   "cell_type": "code",
   "execution_count": 220,
   "metadata": {},
   "outputs": [],
   "source": [
    "import time\n",
    "import datetime\n",
    "\n",
    "def format_time(elapsed):\n",
    "    '''\n",
    "    Takes a time in seconds and returns a string hh:mm:ss\n",
    "    '''\n",
    "    # Round to the nearest second.\n",
    "    elapsed_rounded = int(round((elapsed)))\n",
    "    \n",
    "    # Format as hh:mm:ss\n",
    "    return str(datetime.timedelta(seconds=elapsed_rounded))\n"
   ]
  },
  {
   "cell_type": "code",
   "execution_count": 221,
   "metadata": {},
   "outputs": [
    {
     "name": "stdout",
     "output_type": "stream",
     "text": [
      "\n",
      "======== Epoch 1 / 4 ========\n",
      "Training...\n",
      "  Batch    40  of  1,000.    Elapsed: 0:00:11.\n",
      "  Batch    80  of  1,000.    Elapsed: 0:00:22.\n",
      "  Batch   120  of  1,000.    Elapsed: 0:00:33.\n",
      "  Batch   160  of  1,000.    Elapsed: 0:00:44.\n",
      "  Batch   200  of  1,000.    Elapsed: 0:00:56.\n",
      "  Batch   240  of  1,000.    Elapsed: 0:01:07.\n",
      "  Batch   280  of  1,000.    Elapsed: 0:01:18.\n",
      "  Batch   320  of  1,000.    Elapsed: 0:01:30.\n",
      "  Batch   360  of  1,000.    Elapsed: 0:01:41.\n",
      "  Batch   400  of  1,000.    Elapsed: 0:01:53.\n",
      "  Batch   440  of  1,000.    Elapsed: 0:02:04.\n",
      "  Batch   480  of  1,000.    Elapsed: 0:02:16.\n",
      "  Batch   520  of  1,000.    Elapsed: 0:02:28.\n",
      "  Batch   560  of  1,000.    Elapsed: 0:02:40.\n",
      "  Batch   600  of  1,000.    Elapsed: 0:02:51.\n",
      "  Batch   640  of  1,000.    Elapsed: 0:03:03.\n",
      "  Batch   680  of  1,000.    Elapsed: 0:03:15.\n",
      "  Batch   720  of  1,000.    Elapsed: 0:03:27.\n",
      "  Batch   760  of  1,000.    Elapsed: 0:03:39.\n",
      "  Batch   800  of  1,000.    Elapsed: 0:03:51.\n",
      "  Batch   840  of  1,000.    Elapsed: 0:04:03.\n",
      "  Batch   880  of  1,000.    Elapsed: 0:04:15.\n",
      "  Batch   920  of  1,000.    Elapsed: 0:04:27.\n",
      "  Batch   960  of  1,000.    Elapsed: 0:04:39.\n",
      "\n",
      "  Average training loss: 1.08\n",
      "  Training epcoh took: 0:04:51\n",
      "\n",
      "Running Validation...\n",
      "  Accuracy: 0.73\n",
      "  Validation Loss: 0.82\n",
      "  Validation took: 0:00:13\n",
      "\n",
      "======== Epoch 2 / 4 ========\n",
      "Training...\n",
      "  Batch    40  of  1,000.    Elapsed: 0:00:12.\n",
      "  Batch    80  of  1,000.    Elapsed: 0:00:24.\n",
      "  Batch   120  of  1,000.    Elapsed: 0:00:36.\n",
      "  Batch   160  of  1,000.    Elapsed: 0:00:49.\n",
      "  Batch   200  of  1,000.    Elapsed: 0:01:01.\n",
      "  Batch   240  of  1,000.    Elapsed: 0:01:13.\n",
      "  Batch   280  of  1,000.    Elapsed: 0:01:25.\n",
      "  Batch   320  of  1,000.    Elapsed: 0:01:37.\n",
      "  Batch   360  of  1,000.    Elapsed: 0:01:48.\n",
      "  Batch   400  of  1,000.    Elapsed: 0:02:00.\n",
      "  Batch   440  of  1,000.    Elapsed: 0:02:12.\n",
      "  Batch   480  of  1,000.    Elapsed: 0:02:24.\n",
      "  Batch   520  of  1,000.    Elapsed: 0:02:36.\n",
      "  Batch   560  of  1,000.    Elapsed: 0:02:48.\n",
      "  Batch   600  of  1,000.    Elapsed: 0:03:00.\n",
      "  Batch   640  of  1,000.    Elapsed: 0:03:12.\n",
      "  Batch   680  of  1,000.    Elapsed: 0:03:24.\n",
      "  Batch   720  of  1,000.    Elapsed: 0:03:36.\n",
      "  Batch   760  of  1,000.    Elapsed: 0:03:48.\n",
      "  Batch   800  of  1,000.    Elapsed: 0:04:00.\n",
      "  Batch   840  of  1,000.    Elapsed: 0:04:12.\n",
      "  Batch   880  of  1,000.    Elapsed: 0:04:24.\n",
      "  Batch   920  of  1,000.    Elapsed: 0:04:36.\n",
      "  Batch   960  of  1,000.    Elapsed: 0:04:48.\n",
      "\n",
      "  Average training loss: 0.75\n",
      "  Training epcoh took: 0:05:00\n",
      "\n",
      "Running Validation...\n",
      "  Accuracy: 0.74\n",
      "  Validation Loss: 0.77\n",
      "  Validation took: 0:00:13\n",
      "\n",
      "======== Epoch 3 / 4 ========\n",
      "Training...\n",
      "  Batch    40  of  1,000.    Elapsed: 0:00:12.\n",
      "  Batch    80  of  1,000.    Elapsed: 0:00:24.\n",
      "  Batch   120  of  1,000.    Elapsed: 0:00:36.\n",
      "  Batch   160  of  1,000.    Elapsed: 0:00:47.\n",
      "  Batch   200  of  1,000.    Elapsed: 0:00:59.\n",
      "  Batch   240  of  1,000.    Elapsed: 0:01:11.\n",
      "  Batch   280  of  1,000.    Elapsed: 0:01:23.\n",
      "  Batch   320  of  1,000.    Elapsed: 0:01:35.\n",
      "  Batch   360  of  1,000.    Elapsed: 0:01:46.\n",
      "  Batch   400  of  1,000.    Elapsed: 0:01:58.\n",
      "  Batch   440  of  1,000.    Elapsed: 0:02:11.\n",
      "  Batch   480  of  1,000.    Elapsed: 0:02:23.\n",
      "  Batch   520  of  1,000.    Elapsed: 0:02:35.\n",
      "  Batch   560  of  1,000.    Elapsed: 0:02:47.\n",
      "  Batch   600  of  1,000.    Elapsed: 0:02:59.\n",
      "  Batch   640  of  1,000.    Elapsed: 0:03:11.\n",
      "  Batch   680  of  1,000.    Elapsed: 0:03:23.\n",
      "  Batch   720  of  1,000.    Elapsed: 0:03:35.\n",
      "  Batch   760  of  1,000.    Elapsed: 0:03:47.\n",
      "  Batch   800  of  1,000.    Elapsed: 0:03:58.\n",
      "  Batch   840  of  1,000.    Elapsed: 0:04:10.\n",
      "  Batch   880  of  1,000.    Elapsed: 0:04:22.\n",
      "  Batch   920  of  1,000.    Elapsed: 0:04:34.\n",
      "  Batch   960  of  1,000.    Elapsed: 0:04:46.\n",
      "\n",
      "  Average training loss: 0.64\n",
      "  Training epcoh took: 0:04:58\n",
      "\n",
      "Running Validation...\n",
      "  Accuracy: 0.75\n",
      "  Validation Loss: 0.78\n",
      "  Validation took: 0:00:13\n",
      "\n",
      "======== Epoch 4 / 4 ========\n",
      "Training...\n",
      "  Batch    40  of  1,000.    Elapsed: 0:00:12.\n",
      "  Batch    80  of  1,000.    Elapsed: 0:00:24.\n",
      "  Batch   120  of  1,000.    Elapsed: 0:00:36.\n",
      "  Batch   160  of  1,000.    Elapsed: 0:00:48.\n",
      "  Batch   200  of  1,000.    Elapsed: 0:01:00.\n",
      "  Batch   240  of  1,000.    Elapsed: 0:01:12.\n",
      "  Batch   280  of  1,000.    Elapsed: 0:01:24.\n",
      "  Batch   320  of  1,000.    Elapsed: 0:01:36.\n",
      "  Batch   360  of  1,000.    Elapsed: 0:01:48.\n",
      "  Batch   400  of  1,000.    Elapsed: 0:02:00.\n",
      "  Batch   440  of  1,000.    Elapsed: 0:02:12.\n",
      "  Batch   480  of  1,000.    Elapsed: 0:02:24.\n",
      "  Batch   520  of  1,000.    Elapsed: 0:02:36.\n",
      "  Batch   560  of  1,000.    Elapsed: 0:02:48.\n",
      "  Batch   600  of  1,000.    Elapsed: 0:03:00.\n",
      "  Batch   640  of  1,000.    Elapsed: 0:03:12.\n",
      "  Batch   680  of  1,000.    Elapsed: 0:03:24.\n",
      "  Batch   720  of  1,000.    Elapsed: 0:03:36.\n",
      "  Batch   760  of  1,000.    Elapsed: 0:03:48.\n",
      "  Batch   800  of  1,000.    Elapsed: 0:04:00.\n",
      "  Batch   840  of  1,000.    Elapsed: 0:04:12.\n",
      "  Batch   880  of  1,000.    Elapsed: 0:04:23.\n",
      "  Batch   920  of  1,000.    Elapsed: 0:04:35.\n",
      "  Batch   960  of  1,000.    Elapsed: 0:04:47.\n",
      "\n",
      "  Average training loss: 0.58\n",
      "  Training epcoh took: 0:04:59\n",
      "\n",
      "Running Validation...\n",
      "  Accuracy: 0.75\n",
      "  Validation Loss: 0.79\n",
      "  Validation took: 0:00:13\n",
      "\n",
      "Training complete!\n",
      "Total training took 0:20:40 (h:mm:ss)\n"
     ]
    }
   ],
   "source": [
    "random.seed(seed)\n",
    "np.random.seed(seed)\n",
    "torch.manual_seed(seed)\n",
    "torch.cuda.manual_seed_all(seed)\n",
    "\n",
    "# We'll store a number of quantities such as training and validation loss, \n",
    "# validation accuracy, and timings.\n",
    "training_stats = []\n",
    "\n",
    "# Measure the total training time for the whole run.\n",
    "total_t0 = time.time()\n",
    "\n",
    "# For each epoch...\n",
    "for epoch_i in range(0, epochs):\n",
    "    \n",
    "    # ========================================\n",
    "    #               Training\n",
    "    # ========================================\n",
    "    \n",
    "    # Perform one full pass over the training set.\n",
    "\n",
    "    print(\"\")\n",
    "    print('======== Epoch {:} / {:} ========'.format(epoch_i + 1, epochs))\n",
    "    print('Training...')\n",
    "\n",
    "    # Measure how long the training epoch takes.\n",
    "    t0 = time.time()\n",
    "\n",
    "    # Reset the total loss for this epoch.\n",
    "    total_train_loss = 0\n",
    "\n",
    "    # Put the model into training mode. Don't be mislead--the call to \n",
    "    # `train` just changes the *mode*, it doesn't *perform* the training.\n",
    "    # `dropout` and `batchnorm` layers behave differently during training\n",
    "    # vs. test (source: https://stackoverflow.com/questions/51433378/what-does-model-train-do-in-pytorch)\n",
    "    model.train()\n",
    "\n",
    "    # For each batch of training data...\n",
    "    for step, batch in enumerate(train_dataloader):\n",
    "\n",
    "        # Progress update every 40 batches.\n",
    "        if step % 40 == 0 and not step == 0:\n",
    "            # Calculate elapsed time in minutes.\n",
    "            elapsed = format_time(time.time() - t0)\n",
    "            \n",
    "            # Report progress.\n",
    "            print('  Batch {:>5,}  of  {:>5,}.    Elapsed: {:}.'.format(step, len(train_dataloader), elapsed))\n",
    "\n",
    "        # Unpack this training batch from our dataloader. \n",
    "        #\n",
    "        # As we unpack the batch, we'll also copy each tensor to the GPU using the \n",
    "        # `to` method.\n",
    "        #\n",
    "        # `batch` contains three pytorch tensors:\n",
    "        #   [0]: input ids \n",
    "        #   [1]: attention masks\n",
    "        #   [2]: labels \n",
    "        b_input_ids = batch[0].to(device)\n",
    "        b_input_mask = batch[1].to(device)\n",
    "        b_labels = batch[2].to(device)\n",
    "\n",
    "        # Always clear any previously calculated gradients before performing a\n",
    "        # backward pass. PyTorch doesn't do this automatically because \n",
    "        # accumulating the gradients is \"convenient while training RNNs\". \n",
    "        # (source: https://stackoverflow.com/questions/48001598/why-do-we-need-to-call-zero-grad-in-pytorch)\n",
    "        model.zero_grad()        \n",
    "\n",
    "        # Perform a forward pass (evaluate the model on this training batch).\n",
    "        # In PyTorch, calling `model` will in turn call the model's `forward` \n",
    "        # function and pass down the arguments. The `forward` function is \n",
    "        # documented here: \n",
    "        # https://huggingface.co/transformers/model_doc/bert.html#bertforsequenceclassification\n",
    "        # The results are returned in a results object, documented here:\n",
    "        # https://huggingface.co/transformers/main_classes/output.html#transformers.modeling_outputs.SequenceClassifierOutput\n",
    "        # Specifically, we'll get the loss (because we provided labels) and the\n",
    "        # \"logits\"--the model outputs prior to activation.\n",
    "        result = model(b_input_ids, \n",
    "                       token_type_ids=None, \n",
    "                       attention_mask=b_input_mask, \n",
    "                       labels=b_labels,\n",
    "                       return_dict=True)\n",
    "\n",
    "        loss = result.loss\n",
    "        logits = result.logits\n",
    "\n",
    "        # Accumulate the training loss over all of the batches so that we can\n",
    "        # calculate the average loss at the end. `loss` is a Tensor containing a\n",
    "        # single value; the `.item()` function just returns the Python value \n",
    "        # from the tensor.\n",
    "        total_train_loss += loss.item()\n",
    "\n",
    "        # Perform a backward pass to calculate the gradients.\n",
    "        loss.backward()\n",
    "\n",
    "        # Clip the norm of the gradients to 1.0.\n",
    "        # This is to help prevent the \"exploding gradients\" problem.\n",
    "        torch.nn.utils.clip_grad_norm_(model.parameters(), 1.0)\n",
    "\n",
    "        # Update parameters and take a step using the computed gradient.\n",
    "        # The optimizer dictates the \"update rule\"--how the parameters are\n",
    "        # modified based on their gradients, the learning rate, etc.\n",
    "        optimizer.step()\n",
    "\n",
    "        # Update the learning rate.\n",
    "        scheduler.step()\n",
    "\n",
    "    # Calculate the average loss over all of the batches.\n",
    "    avg_train_loss = total_train_loss / len(train_dataloader)            \n",
    "    \n",
    "    # Measure how long this epoch took.\n",
    "    training_time = format_time(time.time() - t0)\n",
    "\n",
    "    print(\"\")\n",
    "    print(\"  Average training loss: {0:.2f}\".format(avg_train_loss))\n",
    "    print(\"  Training epcoh took: {:}\".format(training_time))\n",
    "        \n",
    "    # ========================================\n",
    "    #               Validation\n",
    "    # ========================================\n",
    "    # After the completion of each training epoch, measure our performance on\n",
    "    # our validation set.\n",
    "\n",
    "    print(\"\")\n",
    "    print(\"Running Validation...\")\n",
    "\n",
    "    t0 = time.time()\n",
    "\n",
    "    # Put the model in evaluation mode--the dropout layers behave differently\n",
    "    # during evaluation.\n",
    "    model.eval()\n",
    "\n",
    "    # Tracking variables \n",
    "    total_eval_accuracy = 0\n",
    "    total_eval_loss = 0\n",
    "    nb_eval_steps = 0\n",
    "\n",
    "    # Evaluate data for one epoch\n",
    "    for batch in validation_dataloader:\n",
    "        \n",
    "        # Unpack this training batch from our dataloader. \n",
    "        #\n",
    "        # As we unpack the batch, we'll also copy each tensor to the GPU using \n",
    "        # the `to` method.\n",
    "        #\n",
    "        # `batch` contains three pytorch tensors:\n",
    "        #   [0]: input ids \n",
    "        #   [1]: attention masks\n",
    "        #   [2]: labels \n",
    "        b_input_ids = batch[0].to(device)\n",
    "        b_input_mask = batch[1].to(device)\n",
    "        b_labels = batch[2].to(device)\n",
    "        \n",
    "        # Tell pytorch not to bother with constructing the compute graph during\n",
    "        # the forward pass, since this is only needed for backprop (training).\n",
    "        with torch.no_grad():        \n",
    "\n",
    "            # Forward pass, calculate logit predictions.\n",
    "            # token_type_ids is the same as the \"segment ids\", which \n",
    "            # differentiates sentence 1 and 2 in 2-sentence tasks.\n",
    "            result = model(b_input_ids, \n",
    "                           token_type_ids=None, \n",
    "                           attention_mask=b_input_mask,\n",
    "                           labels=b_labels,\n",
    "                           return_dict=True)\n",
    "\n",
    "        # Get the loss and \"logits\" output by the model. The \"logits\" are the \n",
    "        # output values prior to applying an activation function like the \n",
    "        # softmax.\n",
    "        loss = result.loss\n",
    "        logits = result.logits\n",
    "            \n",
    "        # Accumulate the validation loss.\n",
    "        total_eval_loss += loss.item()\n",
    "\n",
    "        # Move logits and labels to CPU\n",
    "        logits = logits.detach().cpu().numpy()\n",
    "        label_ids = b_labels.to('cpu').numpy()\n",
    "\n",
    "        # Calculate the accuracy for this batch of test sentences, and\n",
    "        # accumulate it over all batches.\n",
    "        total_eval_accuracy += flat_accuracy(logits, label_ids)\n",
    "        \n",
    "\n",
    "    # Report the final accuracy for this validation run.\n",
    "    avg_val_accuracy = total_eval_accuracy / len(validation_dataloader)\n",
    "    print(\"  Accuracy: {0:.2f}\".format(avg_val_accuracy))\n",
    "\n",
    "    # Calculate the average loss over all of the batches.\n",
    "    avg_val_loss = total_eval_loss / len(validation_dataloader)\n",
    "    \n",
    "    # Measure how long the validation run took.\n",
    "    validation_time = format_time(time.time() - t0)\n",
    "    \n",
    "    print(\"  Validation Loss: {0:.2f}\".format(avg_val_loss))\n",
    "    print(\"  Validation took: {:}\".format(validation_time))\n",
    "\n",
    "    # Record all statistics from this epoch.\n",
    "    training_stats.append(\n",
    "        {\n",
    "            'epoch': epoch_i + 1,\n",
    "            'Training Loss': avg_train_loss,\n",
    "            'Valid. Loss': avg_val_loss,\n",
    "            'Valid. Accur.': avg_val_accuracy,\n",
    "            'Training Time': training_time,\n",
    "            'Validation Time': validation_time\n",
    "        }\n",
    "    )\n",
    "\n",
    "print(\"\")\n",
    "print(\"Training complete!\")\n",
    "\n",
    "print(\"Total training took {:} (h:mm:ss)\".format(format_time(time.time()-total_t0)))"
   ]
  },
  {
   "cell_type": "code",
   "execution_count": 222,
   "metadata": {},
   "outputs": [
    {
     "data": {
      "text/html": [
       "<div>\n",
       "<style scoped>\n",
       "    .dataframe tbody tr th:only-of-type {\n",
       "        vertical-align: middle;\n",
       "    }\n",
       "\n",
       "    .dataframe tbody tr th {\n",
       "        vertical-align: top;\n",
       "    }\n",
       "\n",
       "    .dataframe thead th {\n",
       "        text-align: right;\n",
       "    }\n",
       "</style>\n",
       "<table border=\"1\" class=\"dataframe\">\n",
       "  <thead>\n",
       "    <tr style=\"text-align: right;\">\n",
       "      <th></th>\n",
       "      <th>Training Loss</th>\n",
       "      <th>Valid. Loss</th>\n",
       "      <th>Valid. Accur.</th>\n",
       "      <th>Training Time</th>\n",
       "      <th>Validation Time</th>\n",
       "    </tr>\n",
       "    <tr>\n",
       "      <th>epoch</th>\n",
       "      <th></th>\n",
       "      <th></th>\n",
       "      <th></th>\n",
       "      <th></th>\n",
       "      <th></th>\n",
       "    </tr>\n",
       "  </thead>\n",
       "  <tbody>\n",
       "    <tr>\n",
       "      <th>1</th>\n",
       "      <td>1.078342</td>\n",
       "      <td>0.823186</td>\n",
       "      <td>0.73075</td>\n",
       "      <td>0:04:51</td>\n",
       "      <td>0:00:13</td>\n",
       "    </tr>\n",
       "    <tr>\n",
       "      <th>2</th>\n",
       "      <td>0.750434</td>\n",
       "      <td>0.772836</td>\n",
       "      <td>0.74250</td>\n",
       "      <td>0:05:00</td>\n",
       "      <td>0:00:13</td>\n",
       "    </tr>\n",
       "    <tr>\n",
       "      <th>3</th>\n",
       "      <td>0.644952</td>\n",
       "      <td>0.778967</td>\n",
       "      <td>0.74725</td>\n",
       "      <td>0:04:58</td>\n",
       "      <td>0:00:13</td>\n",
       "    </tr>\n",
       "    <tr>\n",
       "      <th>4</th>\n",
       "      <td>0.580174</td>\n",
       "      <td>0.792017</td>\n",
       "      <td>0.74725</td>\n",
       "      <td>0:04:59</td>\n",
       "      <td>0:00:13</td>\n",
       "    </tr>\n",
       "  </tbody>\n",
       "</table>\n",
       "</div>"
      ],
      "text/plain": [
       "       Training Loss  Valid. Loss  Valid. Accur. Training Time Validation Time\n",
       "epoch                                                                         \n",
       "1           1.078342     0.823186        0.73075       0:04:51         0:00:13\n",
       "2           0.750434     0.772836        0.74250       0:05:00         0:00:13\n",
       "3           0.644952     0.778967        0.74725       0:04:58         0:00:13\n",
       "4           0.580174     0.792017        0.74725       0:04:59         0:00:13"
      ]
     },
     "execution_count": 222,
     "metadata": {},
     "output_type": "execute_result"
    }
   ],
   "source": [
    "import pandas as pd\n",
    "\n",
    "# Display floats with two decimal places.\n",
    "# pd.set_option('precision', 2)\n",
    "\n",
    "# Create a DataFrame from our training statistics.\n",
    "df_stats = pd.DataFrame(data=training_stats)\n",
    "\n",
    "# Use the 'epoch' as the row index.\n",
    "df_stats = df_stats.set_index('epoch')\n",
    "\n",
    "# A hack to force the column headers to wrap (doesn't seem to work in Colab).\n",
    "#df = df.style.set_table_styles([dict(selector=\"th\",props=[('max-width', '70px')])])\n",
    "\n",
    "# Display the table.\n",
    "df_stats"
   ]
  },
  {
   "cell_type": "code",
   "execution_count": 223,
   "metadata": {},
   "outputs": [
    {
     "data": {
      "image/png": "[encoded data removed]",
      "text/plain": [
       "<Figure size 864x432 with 1 Axes>"
      ]
     },
     "metadata": {},
     "output_type": "display_data"
    }
   ],
   "source": [
    "import matplotlib.pyplot as plt\n",
    "\n",
    "import seaborn as sns\n",
    "\n",
    "# Use plot styling from seaborn.\n",
    "sns.set(style='darkgrid')\n",
    "\n",
    "# Increase the plot size and font size.\n",
    "sns.set(font_scale=1.5)\n",
    "plt.rcParams[\"figure.figsize\"] = (12,6)\n",
    "\n",
    "# Plot the learning curve.\n",
    "plt.plot(df_stats['Training Loss'], 'b-o', label=\"Training\")\n",
    "plt.plot(df_stats['Valid. Loss'], 'g-o', label=\"Validation\")\n",
    "\n",
    "# Label the plot.\n",
    "plt.title(\"Training & Validation Loss\")\n",
    "plt.xlabel(\"Epoch\")\n",
    "plt.ylabel(\"Loss\")\n",
    "plt.legend()\n",
    "plt.xticks([1, 2, 3, 4])\n",
    "\n",
    "plt.show()"
   ]
  },
  {
   "cell_type": "code",
   "execution_count": 224,
   "metadata": {},
   "outputs": [
    {
     "name": "stdout",
     "output_type": "stream",
     "text": [
      "Predicting labels for 4,000 test sentences...\n",
      "    DONE.\n"
     ]
    }
   ],
   "source": [
    "# Create a DataLoader to batch our test samples for us. We'll use a sequential\n",
    "# sampler this time--don't need this to be random!\n",
    "prediction_sampler = SequentialSampler(test_dataset)\n",
    "prediction_dataloader = DataLoader(test_dataset, sampler=prediction_sampler, batch_size=batch_size)\n",
    "\n",
    "print('Predicting labels for {:,} test sentences...'.format(len(test_dataset)))\n",
    "\n",
    "# Put model in evaluation mode\n",
    "model.eval()\n",
    "\n",
    "# Tracking variables \n",
    "predictions , true_labels = [], []\n",
    "\n",
    "# Predict \n",
    "for batch in prediction_dataloader:\n",
    "  # Add batch to GPU\n",
    "  batch = tuple(t.to(device) for t in batch)\n",
    "  \n",
    "  # Unpack the inputs from our dataloader\n",
    "  b_input_ids, b_input_mask, b_labels = batch\n",
    "  \n",
    "  # Telling the model not to compute or store gradients, saving memory and \n",
    "  # speeding up prediction\n",
    "  with torch.no_grad():\n",
    "      # Forward pass, calculate logit predictions.\n",
    "      result = model(b_input_ids, \n",
    "                     token_type_ids=None, \n",
    "                     attention_mask=b_input_mask,\n",
    "                     return_dict=True)\n",
    "\n",
    "  logits = result.logits\n",
    "\n",
    "  # Move logits and labels to CPU\n",
    "  logits = logits.detach().cpu().numpy()\n",
    "  label_ids = b_labels.to('cpu').numpy()\n",
    "  \n",
    "  # Store predictions and true labels\n",
    "  predictions.append(logits)\n",
    "  true_labels.append(label_ids)\n",
    "\n",
    "print('    DONE.')"
   ]
  },
  {
   "cell_type": "code",
   "execution_count": 225,
   "metadata": {},
   "outputs": [],
   "source": [
    "# Combine the results across all batches. \n",
    "flat_predictions = np.concatenate(predictions, axis=0)\n",
    "\n",
    "# For each sample, pick the label (0 or 1) with the higher score.\n",
    "flat_predictions = np.argmax(flat_predictions, axis=1).flatten()\n",
    "\n",
    "# Combine the correct labels for each batch into a single list.\n",
    "flat_true_labels = np.concatenate(true_labels, axis=0)"
   ]
  },
  {
   "cell_type": "code",
   "execution_count": 30,
   "metadata": {
    "jupyter": {
     "source_hidden": true
    },
    "tags": []
   },
   "outputs": [
    {
     "name": "stdout",
     "output_type": "stream",
     "text": [
      "F1 Score: 0.781\n"
     ]
    }
   ],
   "source": [
    "from sklearn.metrics import f1_score\n",
    "\n",
    "# Calculate the F1\n",
    "f1 = f1_score(flat_true_labels, flat_predictions, average='micro')\n",
    "\n",
    "print('F1 Score: %.3f' % f1)"
   ]
  },
  {
   "cell_type": "markdown",
   "metadata": {},
   "source": [
    "## Custom Bert Model"
   ]
  },
  {
   "cell_type": "code",
   "execution_count": 23,
   "metadata": {},
   "outputs": [
    {
     "name": "stdout",
     "output_type": "stream",
     "text": [
      "There are 1 GPU(s) available.\n",
      "We will use the GPU: Tesla T4\n"
     ]
    }
   ],
   "source": [
    "import torch\n",
    "\n",
    "# If there's a GPU available...\n",
    "if torch.cuda.is_available():    \n",
    "\n",
    "    # Tell PyTorch to use the GPU.    \n",
    "    device = torch.device(\"cuda\")\n",
    "\n",
    "    print('There are %d GPU(s) available.' % torch.cuda.device_count())\n",
    "\n",
    "    print('We will use the GPU:', torch.cuda.get_device_name(0))\n",
    "\n",
    "# If not...\n",
    "else:\n",
    "    print('No GPU available, using the CPU instead.')\n",
    "    device = torch.device(\"cpu\")"
   ]
  },
  {
   "cell_type": "code",
   "execution_count": 24,
   "metadata": {},
   "outputs": [
    {
     "name": "stdout",
     "output_type": "stream",
     "text": [
      "Loading BERT tokenizer...\n"
     ]
    }
   ],
   "source": [
    "from transformers import BertTokenizer\n",
    "\n",
    "# Load the BERT tokenizer.\n",
    "print('Loading BERT tokenizer...')\n",
    "tokenizer = BertTokenizer.from_pretrained('bert-base-uncased', do_lower_case=True)"
   ]
  },
  {
   "cell_type": "code",
   "execution_count": 44,
   "metadata": {},
   "outputs": [],
   "source": [
    "from transformers import BertConfig, BertModel\n",
    "import torch.nn as nn\n",
    "\n",
    "class BertTextClassifier(nn.Module):\n",
    "    \"\"\"\n",
    "    This takes a transformer backbone and puts a slightly-modified classification head on top.\n",
    "    \n",
    "    \"\"\"\n",
    "\n",
    "    def __init__(self, model_name, numeric_feature_size, num_labels):\n",
    "        # num_extra_dims corresponds to the number of extra dimensions of numerical/categorical data\n",
    "\n",
    "        super().__init__()\n",
    "        \n",
    "        self.num_labels = num_labels\n",
    "        self.config = BertConfig.from_pretrained(model_name)\n",
    "        \n",
    "        self.transformer = BertModel.from_pretrained(model_name, config=self.config)\n",
    "        self.dropout = nn.Dropout(self.config.hidden_dropout_prob)\n",
    "        self.classifier = nn.Linear(self.config.hidden_size + numeric_feature_size, num_labels)\n",
    "\n",
    "\n",
    "    def forward(self, input_ids, extra_data, labels, attention_mask=None):\n",
    "        \"\"\"\n",
    "        extra_data should be of shape [batch_size, dim] \n",
    "        where dim is the number of additional numerical/categorical dimensions\n",
    "        \"\"\"\n",
    "\n",
    "        outputs = self.transformer(input_ids=input_ids, attention_mask=attention_mask) # [batch size, sequence length, hidden size]\n",
    "        cls_embeds = outputs.last_hidden_state[:, 0, :] # [batch size, hidden size]\n",
    "        concat = torch.cat((cls_embeds, extra_data.float()), dim=-1) # [batch size, hidden size+num extra dims]\n",
    "\n",
    "        pooled_output = self.dropout(concat)\n",
    "        \n",
    "        logits = self.classifier(pooled_output) # [batch size, num labels]    \n",
    "        \n",
    "        loss_fct = nn.CrossEntropyLoss()\n",
    "        loss = loss_fct(logits.view(-1, self.num_labels), labels.view(-1))\n",
    "\n",
    "        return {\n",
    "            'loss':loss,\n",
    "            'logits':logits,\n",
    "        }"
   ]
  },
  {
   "cell_type": "code",
   "execution_count": 47,
   "metadata": {},
   "outputs": [
    {
     "name": "stderr",
     "output_type": "stream",
     "text": [
      "Some weights of the model checkpoint at bert-base-uncased were not used when initializing BertModel: ['cls.seq_relationship.weight', 'cls.predictions.transform.dense.weight', 'cls.seq_relationship.bias', 'cls.predictions.transform.LayerNorm.weight', 'cls.predictions.transform.LayerNorm.bias', 'cls.predictions.decoder.weight', 'cls.predictions.transform.dense.bias', 'cls.predictions.bias']\n",
      "- This IS expected if you are initializing BertModel from the checkpoint of a model trained on another task or with another architecture (e.g. initializing a BertForSequenceClassification model from a BertForPreTraining model).\n",
      "- This IS NOT expected if you are initializing BertModel from the checkpoint of a model that you expect to be exactly identical (initializing a BertForSequenceClassification model from a BertForSequenceClassification model).\n"
     ]
    }
   ],
   "source": [
    "# Load BertForSequenceClassification, the pretrained BERT model \n",
    "model = BertTextClassifier(\n",
    "    \"bert-base-uncased\", # Use the 12-layer BERT model, with an uncased vocab.\n",
    "    numeric_feature_size = 1,\n",
    "    num_labels = 10,\n",
    ")\n",
    "\n",
    "# Tell pytorch to run this model on the GPU.\n",
    "desc = model.cuda()"
   ]
  },
  {
   "cell_type": "code",
   "execution_count": 68,
   "metadata": {},
   "outputs": [],
   "source": [
    "# Larger batch sizes tend to be better, and we can fit this in memory.\n",
    "batch_size = 32\n",
    "\n",
    "# I used a smaller learning rate to combat over-fitting that I was seeing in the\n",
    "# validation loss. I could probably try even smaller.\n",
    "learning_rate = 1e-5\n",
    "\n",
    "# Number of training epochs. \n",
    "epochs = 10"
   ]
  },
  {
   "cell_type": "code",
   "execution_count": 69,
   "metadata": {},
   "outputs": [],
   "source": [
    "import matplotlib.pyplot as plt\n",
    "%matplotlib inline\n",
    "\n",
    "def maxLen(concatenated_brand):\n",
    "    len_list = []\n",
    "    # For every sentence...\n",
    "    for sent in concatenated_brand:\n",
    "        # Tokenize the text and add `[CLS]` and `[SEP]` tokens.\n",
    "        input_ids = tokenizer.encode(sent, add_special_tokens=True)\n",
    "        len_list.append(len(input_ids))\n",
    "\n",
    "    # mean, max, min of len_list\n",
    "    print('Mean sentence length: ', np.mean(len_list))\n",
    "    print('Max sentence length: ', np.max(len_list))\n",
    "    print('Min sentence length: ', np.min(len_list))\n",
    "    plt.hist(len_list)\n",
    "    plt.xlabel('Sentence length')\n",
    "    plt.ylabel('Count')\n",
    "    plt.title('Sentence length distribution')\n",
    "    plt.show()\n",
    "    return"
   ]
  },
  {
   "cell_type": "markdown",
   "metadata": {
    "tags": []
   },
   "source": [
    "### default_brand, qrated_brand, coalesced_brand"
   ]
  },
  {
   "cell_type": "code",
   "execution_count": 70,
   "metadata": {},
   "outputs": [],
   "source": [
    "# concat default_brand, qrated_brand and coalesced_brand\n",
    "concatenated_brand = x_train[\"default_brand\"] + \" \" + x_train[\"qrated_brand\"] + \" \" + x_train[\"coalesced_brand\"]\n",
    "concatenated_brand.fillna(\"\", inplace=True)"
   ]
  },
  {
   "cell_type": "code",
   "execution_count": 71,
   "metadata": {
    "tags": []
   },
   "outputs": [
    {
     "name": "stdout",
     "output_type": "stream",
     "text": [
      "Mean sentence length:  19.0444\n",
      "Max sentence length:  77\n",
      "Min sentence length:  2\n"
     ]
    },
    {
     "data": {
      "image/png": "[encoded data removed]",
      "text/plain": [
       "<Figure size 432x288 with 1 Axes>"
      ]
     },
     "metadata": {
      "needs_background": "light"
     },
     "output_type": "display_data"
    }
   ],
   "source": [
    "maxLen(concatenated_brand)"
   ]
  },
  {
   "cell_type": "code",
   "execution_count": 72,
   "metadata": {},
   "outputs": [],
   "source": [
    "max_len = 50"
   ]
  },
  {
   "cell_type": "code",
   "execution_count": 73,
   "metadata": {},
   "outputs": [
    {
     "name": "stdout",
     "output_type": "stream",
     "text": [
      "Encoding...\n",
      "DONE.\n"
     ]
    }
   ],
   "source": [
    "# Tokenize all of the sentences and map the tokens to thier word IDs.\n",
    "input_ids = []\n",
    "attention_masks = []\n",
    "\n",
    "print('Encoding...')\n",
    "\n",
    "# For every sentence...\n",
    "for sent in concatenated_brand:\n",
    "    # `encode_plus` will:\n",
    "    #   (1) Tokenize the sentence.\n",
    "    #   (2) Prepend the `[CLS]` token to the start.\n",
    "    #   (3) Append the `[SEP]` token to the end.\n",
    "    #   (4) Map tokens to their IDs.\n",
    "    #   (5) Pad or truncate the sentence to `max_length`\n",
    "    #   (6) Create attention masks for [PAD] tokens.\n",
    "    encoded_dict = tokenizer.encode_plus(\n",
    "                        sent,                      # Sentence to encode.\n",
    "                        add_special_tokens = True, # Add '[CLS]' and '[SEP]'\n",
    "                        max_length = max_len,           # Pad & truncate all sentences.\n",
    "                        truncation = True,\n",
    "                        padding = 'max_length',\n",
    "                        return_attention_mask = True,   # Construct attn. masks.\n",
    "                        return_tensors = 'pt',     # Return pytorch tensors.\n",
    "                )\n",
    "    \n",
    "    # Add the encoded sentence to the list.    \n",
    "    input_ids.append(encoded_dict['input_ids'])\n",
    "    \n",
    "    # And its attention mask (simply differentiates padding from non-padding).\n",
    "    attention_masks.append(encoded_dict['attention_mask'])\n",
    "\n",
    "# Convert the lists into tensors.\n",
    "input_ids = torch.cat(input_ids, dim=0)\n",
    "attention_masks = torch.cat(attention_masks, dim=0)\n",
    "labels = torch.tensor(y_train_encoded)\n",
    "\n",
    "print('DONE.')"
   ]
  },
  {
   "cell_type": "code",
   "execution_count": 74,
   "metadata": {},
   "outputs": [
    {
     "name": "stdout",
     "output_type": "stream",
     "text": [
      "  Training size: 32,000\n",
      "Validation size: 4,000\n",
      "      Test size: 4,000\n"
     ]
    }
   ],
   "source": [
    "import random\n",
    "# First, calculate the split sizes. 80% training, 10% validation, 10% test.\n",
    "train_size = int(0.8 * len(train_set))\n",
    "val_size = int(0.1 * len(train_set))\n",
    "test_size = len(train_set) - (train_size + val_size)\n",
    "\n",
    "# Sanity check the sizes.\n",
    "assert((train_size + val_size + test_size) == len(train_set))\n",
    "\n",
    "# Create a list of indeces for all of the samples in the dataset.\n",
    "indeces = np.arange(0, len(train_set))\n",
    "\n",
    "# Shuffle the indeces randomly.\n",
    "random.shuffle(indeces)\n",
    "\n",
    "# Get a list of indeces for each of the splits.\n",
    "train_idx = indeces[0:train_size]\n",
    "val_idx = indeces[train_size:(train_size + val_size)]\n",
    "test_idx = indeces[(train_size + val_size):]\n",
    "\n",
    "# Sanity check\n",
    "assert(len(train_idx) == train_size)\n",
    "assert(len(test_idx) == test_size)\n",
    "\n",
    "# With these lists, we can now select the corresponding dataframe rows using, \n",
    "# e.g., train_df = data_df.iloc[train_idx] \n",
    "\n",
    "print('  Training size: {:,}'.format(train_size))\n",
    "print('Validation size: {:,}'.format(val_size))\n",
    "print('      Test size: {:,}'.format(test_size))"
   ]
  },
  {
   "cell_type": "code",
   "execution_count": 75,
   "metadata": {},
   "outputs": [],
   "source": [
    "from torch.utils.data import TensorDataset\n",
    "\n",
    "mcat = torch.tensor(x_train[[\"merchant_cat_code\"]].values)\n",
    "\n",
    "# Split the samples, and create TensorDatasets for each split. \n",
    "train_dataset = TensorDataset(input_ids[train_idx], attention_masks[train_idx], mcat[train_idx], labels[train_idx])\n",
    "val_dataset = TensorDataset(input_ids[val_idx], attention_masks[val_idx], mcat[val_idx], labels[val_idx])\n",
    "test_dataset = TensorDataset(input_ids[test_idx], attention_masks[test_idx], mcat[val_idx], labels[test_idx])"
   ]
  },
  {
   "cell_type": "code",
   "execution_count": 76,
   "metadata": {},
   "outputs": [],
   "source": [
    "from torch.utils.data import DataLoader, RandomSampler, SequentialSampler\n",
    "\n",
    "# Create the DataLoaders for our training and validation sets.\n",
    "# We'll take training samples in random order. \n",
    "train_dataloader = DataLoader(\n",
    "            train_dataset,  # The training samples.\n",
    "            sampler = RandomSampler(train_dataset), # Select batches randomly\n",
    "            batch_size = batch_size # Trains with this batch size.\n",
    "        )\n",
    "\n",
    "# For validation the order doesn't matter, so we'll just read them sequentially.\n",
    "validation_dataloader = DataLoader(\n",
    "            val_dataset, # The validation samples.\n",
    "            sampler = SequentialSampler(val_dataset), # Pull out batches sequentially.\n",
    "            batch_size = batch_size # Evaluate with this batch size.\n",
    "        )"
   ]
  },
  {
   "cell_type": "code",
   "execution_count": 77,
   "metadata": {},
   "outputs": [],
   "source": [
    "from transformers import AdamW\n",
    "\n",
    "# Note: AdamW is a class from the huggingface library (as opposed to pytorch) \n",
    "# I believe the 'W' stands for 'Weight Decay fix\"\n",
    "optimizer = AdamW(model.parameters(),\n",
    "                  lr = learning_rate, \n",
    "                  eps = 1e-8 \n",
    "                )"
   ]
  },
  {
   "cell_type": "code",
   "execution_count": 78,
   "metadata": {},
   "outputs": [],
   "source": [
    "from transformers import get_linear_schedule_with_warmup\n",
    "\n",
    "# Total number of training steps is [number of batches] x [number of epochs]. \n",
    "# (Note that this is not the same as the number of training samples!)\n",
    "total_steps = len(train_dataloader) * epochs\n",
    "\n",
    "# Create the learning rate scheduler.\n",
    "scheduler = get_linear_schedule_with_warmup(optimizer, \n",
    "                                            num_warmup_steps = 0, # Default value in run_glue.py\n",
    "                                            num_training_steps = total_steps)"
   ]
  },
  {
   "cell_type": "code",
   "execution_count": 79,
   "metadata": {},
   "outputs": [],
   "source": [
    "import numpy as np\n",
    "\n",
    "# Function to calculate the accuracy of our predictions vs labels\n",
    "def flat_accuracy(preds, labels):\n",
    "    pred_flat = np.argmax(preds, axis=1).flatten()\n",
    "    labels_flat = labels.flatten()\n",
    "    return np.sum(pred_flat == labels_flat) / len(labels_flat)"
   ]
  },
  {
   "cell_type": "code",
   "execution_count": 80,
   "metadata": {},
   "outputs": [],
   "source": [
    "import time\n",
    "import datetime\n",
    "\n",
    "def format_time(elapsed):\n",
    "    '''\n",
    "    Takes a time in seconds and returns a string hh:mm:ss\n",
    "    '''\n",
    "    # Round to the nearest second.\n",
    "    elapsed_rounded = int(round((elapsed)))\n",
    "    \n",
    "    # Format as hh:mm:ss\n",
    "    return str(datetime.timedelta(seconds=elapsed_rounded))\n"
   ]
  },
  {
   "cell_type": "code",
   "execution_count": null,
   "metadata": {},
   "outputs": [
    {
     "name": "stdout",
     "output_type": "stream",
     "text": [
      "\n",
      "======== Epoch 1 / 10 ========\n",
      "Training...\n",
      "  Batch    40  of  1,000.    Elapsed: 0:00:11.\n",
      "  Batch    80  of  1,000.    Elapsed: 0:00:22.\n",
      "  Batch   120  of  1,000.    Elapsed: 0:00:33.\n",
      "  Batch   160  of  1,000.    Elapsed: 0:00:44.\n",
      "  Batch   200  of  1,000.    Elapsed: 0:00:55.\n",
      "  Batch   240  of  1,000.    Elapsed: 0:01:06.\n",
      "  Batch   280  of  1,000.    Elapsed: 0:01:18.\n",
      "  Batch   320  of  1,000.    Elapsed: 0:01:29.\n",
      "  Batch   360  of  1,000.    Elapsed: 0:01:40.\n",
      "  Batch   400  of  1,000.    Elapsed: 0:01:51.\n",
      "  Batch   440  of  1,000.    Elapsed: 0:02:03.\n",
      "  Batch   480  of  1,000.    Elapsed: 0:02:14.\n",
      "  Batch   520  of  1,000.    Elapsed: 0:02:25.\n",
      "  Batch   560  of  1,000.    Elapsed: 0:02:36.\n",
      "  Batch   600  of  1,000.    Elapsed: 0:02:48.\n",
      "  Batch   640  of  1,000.    Elapsed: 0:02:59.\n",
      "  Batch   680  of  1,000.    Elapsed: 0:03:10.\n",
      "  Batch   720  of  1,000.    Elapsed: 0:03:22.\n",
      "  Batch   760  of  1,000.    Elapsed: 0:03:33.\n",
      "  Batch   800  of  1,000.    Elapsed: 0:03:45.\n",
      "  Batch   840  of  1,000.    Elapsed: 0:03:56.\n",
      "  Batch   880  of  1,000.    Elapsed: 0:04:08.\n",
      "  Batch   920  of  1,000.    Elapsed: 0:04:19.\n",
      "  Batch   960  of  1,000.    Elapsed: 0:04:31.\n",
      "\n",
      "  Average training loss: 0.71\n",
      "  Training epcoh took: 0:04:42\n",
      "\n",
      "Running Validation...\n",
      "  Accuracy: 0.69\n",
      "  Validation Loss: 1.00\n",
      "  Validation took: 0:00:12\n",
      "\n",
      "======== Epoch 2 / 10 ========\n",
      "Training...\n",
      "  Batch    40  of  1,000.    Elapsed: 0:00:11.\n",
      "  Batch    80  of  1,000.    Elapsed: 0:00:23.\n",
      "  Batch   120  of  1,000.    Elapsed: 0:00:34.\n",
      "  Batch   160  of  1,000.    Elapsed: 0:00:46.\n",
      "  Batch   200  of  1,000.    Elapsed: 0:00:57.\n",
      "  Batch   240  of  1,000.    Elapsed: 0:01:08.\n",
      "  Batch   280  of  1,000.    Elapsed: 0:01:20.\n",
      "  Batch   320  of  1,000.    Elapsed: 0:01:31.\n",
      "  Batch   360  of  1,000.    Elapsed: 0:01:42.\n",
      "  Batch   400  of  1,000.    Elapsed: 0:01:54.\n",
      "  Batch   440  of  1,000.    Elapsed: 0:02:05.\n",
      "  Batch   480  of  1,000.    Elapsed: 0:02:17.\n",
      "  Batch   520  of  1,000.    Elapsed: 0:02:28.\n",
      "  Batch   560  of  1,000.    Elapsed: 0:02:39.\n",
      "  Batch   600  of  1,000.    Elapsed: 0:02:51.\n",
      "  Batch   640  of  1,000.    Elapsed: 0:03:02.\n",
      "  Batch   680  of  1,000.    Elapsed: 0:03:13.\n",
      "  Batch   720  of  1,000.    Elapsed: 0:03:25.\n",
      "  Batch   760  of  1,000.    Elapsed: 0:03:36.\n",
      "  Batch   800  of  1,000.    Elapsed: 0:03:48.\n",
      "  Batch   840  of  1,000.    Elapsed: 0:03:59.\n",
      "  Batch   880  of  1,000.    Elapsed: 0:04:10.\n",
      "  Batch   920  of  1,000.    Elapsed: 0:04:22.\n",
      "  Batch   960  of  1,000.    Elapsed: 0:04:33.\n",
      "\n",
      "  Average training loss: 0.57\n",
      "  Training epcoh took: 0:04:45\n",
      "\n",
      "Running Validation...\n",
      "  Accuracy: 0.70\n",
      "  Validation Loss: 0.99\n",
      "  Validation took: 0:00:12\n",
      "\n",
      "======== Epoch 3 / 10 ========\n",
      "Training...\n",
      "  Batch    40  of  1,000.    Elapsed: 0:00:11.\n",
      "  Batch    80  of  1,000.    Elapsed: 0:00:23.\n",
      "  Batch   120  of  1,000.    Elapsed: 0:00:34.\n",
      "  Batch   160  of  1,000.    Elapsed: 0:00:46.\n",
      "  Batch   200  of  1,000.    Elapsed: 0:00:57.\n",
      "  Batch   240  of  1,000.    Elapsed: 0:01:08.\n",
      "  Batch   280  of  1,000.    Elapsed: 0:01:20.\n",
      "  Batch   320  of  1,000.    Elapsed: 0:01:31.\n",
      "  Batch   360  of  1,000.    Elapsed: 0:01:43.\n",
      "  Batch   400  of  1,000.    Elapsed: 0:01:54.\n",
      "  Batch   440  of  1,000.    Elapsed: 0:02:06.\n",
      "  Batch   480  of  1,000.    Elapsed: 0:02:17.\n",
      "  Batch   520  of  1,000.    Elapsed: 0:02:28.\n",
      "  Batch   560  of  1,000.    Elapsed: 0:02:40.\n",
      "  Batch   600  of  1,000.    Elapsed: 0:02:51.\n",
      "  Batch   640  of  1,000.    Elapsed: 0:03:03.\n",
      "  Batch   680  of  1,000.    Elapsed: 0:03:14.\n",
      "  Batch   720  of  1,000.    Elapsed: 0:03:26.\n",
      "  Batch   760  of  1,000.    Elapsed: 0:03:37.\n",
      "  Batch   800  of  1,000.    Elapsed: 0:03:48.\n",
      "  Batch   840  of  1,000.    Elapsed: 0:04:00.\n",
      "  Batch   880  of  1,000.    Elapsed: 0:04:11.\n",
      "  Batch   920  of  1,000.    Elapsed: 0:04:23.\n",
      "  Batch   960  of  1,000.    Elapsed: 0:04:34.\n",
      "\n",
      "  Average training loss: 0.50\n",
      "  Training epcoh took: 0:04:46\n",
      "\n",
      "Running Validation...\n",
      "  Accuracy: 0.70\n",
      "  Validation Loss: 1.04\n",
      "  Validation took: 0:00:12\n",
      "\n",
      "======== Epoch 4 / 10 ========\n",
      "Training...\n",
      "  Batch    40  of  1,000.    Elapsed: 0:00:11.\n",
      "  Batch    80  of  1,000.    Elapsed: 0:00:23.\n",
      "  Batch   120  of  1,000.    Elapsed: 0:00:34.\n",
      "  Batch   160  of  1,000.    Elapsed: 0:00:46.\n",
      "  Batch   200  of  1,000.    Elapsed: 0:00:57.\n",
      "  Batch   240  of  1,000.    Elapsed: 0:01:09.\n",
      "  Batch   280  of  1,000.    Elapsed: 0:01:20.\n",
      "  Batch   320  of  1,000.    Elapsed: 0:01:31.\n",
      "  Batch   360  of  1,000.    Elapsed: 0:01:43.\n",
      "  Batch   400  of  1,000.    Elapsed: 0:01:54.\n",
      "  Batch   760  of  1,000.    Elapsed: 0:03:29.\n",
      "  Batch   800  of  1,000.    Elapsed: 0:03:40.\n",
      "  Batch   840  of  1,000.    Elapsed: 0:03:51.\n",
      "  Batch   880  of  1,000.    Elapsed: 0:04:02.\n",
      "  Batch   920  of  1,000.    Elapsed: 0:04:13.\n",
      "  Batch   960  of  1,000.    Elapsed: 0:04:24.\n",
      "\n",
      "  Average training loss: 0.36\n",
      "  Training epcoh took: 0:04:34\n",
      "\n",
      "Running Validation...\n",
      "  Accuracy: 0.71\n",
      "  Validation Loss: 1.20\n",
      "  Validation took: 0:00:11\n",
      "\n",
      "======== Epoch 7 / 10 ========\n",
      "Training...\n",
      "  Batch    40  of  1,000.    Elapsed: 0:00:11.\n",
      "  Batch    80  of  1,000.    Elapsed: 0:00:22.\n",
      "  Batch   120  of  1,000.    Elapsed: 0:00:32.\n",
      "  Batch   160  of  1,000.    Elapsed: 0:00:43.\n",
      "  Batch   200  of  1,000.    Elapsed: 0:00:54.\n",
      "  Batch   240  of  1,000.    Elapsed: 0:01:05.\n",
      "  Batch   280  of  1,000.    Elapsed: 0:01:15.\n",
      "  Batch   320  of  1,000.    Elapsed: 0:01:26.\n",
      "  Batch   360  of  1,000.    Elapsed: 0:01:37.\n",
      "  Batch   400  of  1,000.    Elapsed: 0:01:48.\n",
      "  Batch   440  of  1,000.    Elapsed: 0:01:58.\n",
      "  Batch   480  of  1,000.    Elapsed: 0:02:09.\n",
      "  Batch   520  of  1,000.    Elapsed: 0:02:20.\n",
      "  Batch   560  of  1,000.    Elapsed: 0:02:31.\n",
      "  Batch   600  of  1,000.    Elapsed: 0:02:42.\n",
      "  Batch   640  of  1,000.    Elapsed: 0:02:52.\n",
      "  Batch   680  of  1,000.    Elapsed: 0:03:03.\n",
      "  Batch   720  of  1,000.    Elapsed: 0:03:14.\n",
      "  Batch   760  of  1,000.    Elapsed: 0:03:25.\n",
      "  Batch   800  of  1,000.    Elapsed: 0:03:36.\n",
      "  Batch   840  of  1,000.    Elapsed: 0:03:47.\n",
      "  Batch   880  of  1,000.    Elapsed: 0:03:58.\n",
      "  Batch   920  of  1,000.    Elapsed: 0:04:09.\n",
      "  Batch   960  of  1,000.    Elapsed: 0:04:20.\n",
      "\n",
      "  Average training loss: 0.32\n",
      "  Training epcoh took: 0:04:31\n",
      "\n",
      "Running Validation...\n",
      "  Accuracy: 0.71\n",
      "  Validation Loss: 1.27\n",
      "  Validation took: 0:00:11\n",
      "\n",
      "======== Epoch 8 / 10 ========\n",
      "Training...\n",
      "  Batch    40  of  1,000.    Elapsed: 0:00:11.\n",
      "  Batch    80  of  1,000.    Elapsed: 0:00:23.\n",
      "  Batch   120  of  1,000.    Elapsed: 0:00:34.\n",
      "  Batch   160  of  1,000.    Elapsed: 0:00:45.\n",
      "  Batch   200  of  1,000.    Elapsed: 0:00:57.\n",
      "  Batch   240  of  1,000.    Elapsed: 0:01:08.\n",
      "  Batch   280  of  1,000.    Elapsed: 0:01:20.\n",
      "  Batch   320  of  1,000.    Elapsed: 0:01:31.\n",
      "  Batch   360  of  1,000.    Elapsed: 0:01:43.\n",
      "  Batch   400  of  1,000.    Elapsed: 0:01:54.\n",
      "  Batch   440  of  1,000.    Elapsed: 0:02:06.\n",
      "  Batch   480  of  1,000.    Elapsed: 0:02:17.\n",
      "  Batch   520  of  1,000.    Elapsed: 0:02:29.\n",
      "  Batch   560  of  1,000.    Elapsed: 0:02:40.\n",
      "  Batch   600  of  1,000.    Elapsed: 0:02:51.\n",
      "  Batch   640  of  1,000.    Elapsed: 0:03:03.\n",
      "  Batch   680  of  1,000.    Elapsed: 0:03:14.\n",
      "  Batch   720  of  1,000.    Elapsed: 0:03:25.\n",
      "  Batch   760  of  1,000.    Elapsed: 0:03:37.\n",
      "  Batch   800  of  1,000.    Elapsed: 0:03:48.\n",
      "  Batch   840  of  1,000.    Elapsed: 0:04:00.\n",
      "  Batch   880  of  1,000.    Elapsed: 0:04:11.\n",
      "  Batch   920  of  1,000.    Elapsed: 0:04:22.\n",
      "  Batch   960  of  1,000.    Elapsed: 0:04:34.\n",
      "\n",
      "  Average training loss: 0.28\n",
      "  Training epcoh took: 0:04:45\n",
      "\n",
      "Running Validation...\n",
      "  Accuracy: 0.71\n",
      "  Validation Loss: 1.35\n",
      "  Validation took: 0:00:12\n",
      "\n",
      "======== Epoch 9 / 10 ========\n",
      "Training...\n",
      "  Batch    40  of  1,000.    Elapsed: 0:00:12.\n",
      "  Batch    80  of  1,000.    Elapsed: 0:00:23.\n"
     ]
    }
   ],
   "source": [
    "random.seed(seed)\n",
    "np.random.seed(seed)\n",
    "torch.manual_seed(seed)\n",
    "torch.cuda.manual_seed_all(seed)\n",
    "\n",
    "# We'll store a number of quantities such as training and validation loss, \n",
    "# validation accuracy, and timings.\n",
    "training_stats = []\n",
    "\n",
    "# Measure the total training time for the whole run.\n",
    "total_t0 = time.time()\n",
    "\n",
    "# For each epoch...\n",
    "for epoch_i in range(0, epochs):\n",
    "    \n",
    "    # ========================================\n",
    "    #               Training\n",
    "    # ========================================\n",
    "    \n",
    "    # Perform one full pass over the training set.\n",
    "\n",
    "    print(\"\")\n",
    "    print('======== Epoch {:} / {:} ========'.format(epoch_i + 1, epochs))\n",
    "    print('Training...')\n",
    "\n",
    "    # Measure how long the training epoch takes.\n",
    "    t0 = time.time()\n",
    "\n",
    "    # Reset the total loss for this epoch.\n",
    "    total_train_loss = 0\n",
    "\n",
    "    # Put the model into training mode. Don't be mislead--the call to \n",
    "    # `train` just changes the *mode*, it doesn't *perform* the training.\n",
    "    # `dropout` and `batchnorm` layers behave differently during training\n",
    "    # vs. test (source: https://stackoverflow.com/questions/51433378/what-does-model-train-do-in-pytorch)\n",
    "    model.train()\n",
    "\n",
    "    # For each batch of training data...\n",
    "    for step, batch in enumerate(train_dataloader):\n",
    "\n",
    "        # Progress update every 40 batches.\n",
    "        if step % 40 == 0 and not step == 0:\n",
    "            # Calculate elapsed time in minutes.\n",
    "            elapsed = format_time(time.time() - t0)\n",
    "            \n",
    "            # Report progress.\n",
    "            print('  Batch {:>5,}  of  {:>5,}.    Elapsed: {:}.'.format(step, len(train_dataloader), elapsed))\n",
    "\n",
    "        # Unpack this training batch from our dataloader. \n",
    "        #\n",
    "        # As we unpack the batch, we'll also copy each tensor to the GPU using the \n",
    "        # `to` method.\n",
    "        #\n",
    "        # `batch` contains three pytorch tensors:\n",
    "        #   [0]: input ids \n",
    "        #   [1]: attention masks\n",
    "        #   [2]: labels \n",
    "        b_input_ids = batch[0].to(device)\n",
    "        b_input_mask = batch[1].to(device)\n",
    "        b_mcat = batch[2].to(device)\n",
    "        b_labels = batch[3].to(device)\n",
    "\n",
    "        # Always clear any previously calculated gradients before performing a\n",
    "        # backward pass. PyTorch doesn't do this automatically because \n",
    "        # accumulating the gradients is \"convenient while training RNNs\". \n",
    "        # (source: https://stackoverflow.com/questions/48001598/why-do-we-need-to-call-zero-grad-in-pytorch)\n",
    "        model.zero_grad()        \n",
    "\n",
    "        # Perform a forward pass (evaluate the model on this training batch).\n",
    "        # In PyTorch, calling `model` will in turn call the model's `forward` \n",
    "        # function and pass down the arguments. The `forward` function is \n",
    "        # documented here: \n",
    "        # https://huggingface.co/transformers/model_doc/bert.html#bertforsequenceclassification\n",
    "        # The results are returned in a results object, documented here:\n",
    "        # https://huggingface.co/transformers/main_classes/output.html#transformers.modeling_outputs.SequenceClassifierOutput\n",
    "        # Specifically, we'll get the loss (because we provided labels) and the\n",
    "        # \"logits\"--the model outputs prior to activation.\n",
    "        result = model(b_input_ids, \n",
    "                       attention_mask=b_input_mask, \n",
    "                       extra_data = b_mcat,\n",
    "                       labels=b_labels)\n",
    "\n",
    "        loss = result['loss']\n",
    "        logits = result['logits']\n",
    "\n",
    "        # Accumulate the training loss over all of the batches so that we can\n",
    "        # calculate the average loss at the end. `loss` is a Tensor containing a\n",
    "        # single value; the `.item()` function just returns the Python value \n",
    "        # from the tensor.\n",
    "        total_train_loss += loss.item()\n",
    "\n",
    "        # Perform a backward pass to calculate the gradients.\n",
    "        loss.backward()\n",
    "\n",
    "        # Clip the norm of the gradients to 1.0.\n",
    "        # This is to help prevent the \"exploding gradients\" problem.\n",
    "        torch.nn.utils.clip_grad_norm_(model.parameters(), 1.0)\n",
    "\n",
    "        # Update parameters and take a step using the computed gradient.\n",
    "        # The optimizer dictates the \"update rule\"--how the parameters are\n",
    "        # modified based on their gradients, the learning rate, etc.\n",
    "        optimizer.step()\n",
    "\n",
    "        # Update the learning rate.\n",
    "        scheduler.step()\n",
    "\n",
    "    # Calculate the average loss over all of the batches.\n",
    "    avg_train_loss = total_train_loss / len(train_dataloader)            \n",
    "    \n",
    "    # Measure how long this epoch took.\n",
    "    training_time = format_time(time.time() - t0)\n",
    "\n",
    "    print(\"\")\n",
    "    print(\"  Average training loss: {0:.2f}\".format(avg_train_loss))\n",
    "    print(\"  Training epcoh took: {:}\".format(training_time))\n",
    "        \n",
    "    # ========================================\n",
    "    #               Validation\n",
    "    # ========================================\n",
    "    # After the completion of each training epoch, measure our performance on\n",
    "    # our validation set.\n",
    "\n",
    "    print(\"\")\n",
    "    print(\"Running Validation...\")\n",
    "\n",
    "    t0 = time.time()\n",
    "\n",
    "    # Put the model in evaluation mode--the dropout layers behave differently\n",
    "    # during evaluation.\n",
    "    model.eval()\n",
    "\n",
    "    # Tracking variables \n",
    "    total_eval_accuracy = 0\n",
    "    total_eval_loss = 0\n",
    "    nb_eval_steps = 0\n",
    "\n",
    "    # Evaluate data for one epoch\n",
    "    for batch in validation_dataloader:\n",
    "        \n",
    "        # Unpack this training batch from our dataloader. \n",
    "        #\n",
    "        # As we unpack the batch, we'll also copy each tensor to the GPU using \n",
    "        # the `to` method.\n",
    "        #\n",
    "        # `batch` contains three pytorch tensors:\n",
    "        #   [0]: input ids \n",
    "        #   [1]: attention masks\n",
    "        #   [2]: labels \n",
    "        b_input_ids = batch[0].to(device)\n",
    "        b_input_mask = batch[1].to(device)\n",
    "        b_mcat = batch[2].to(device)\n",
    "        b_labels = batch[3].to(device)\n",
    "        \n",
    "        # Tell pytorch not to bother with constructing the compute graph during\n",
    "        # the forward pass, since this is only needed for backprop (training).\n",
    "        with torch.no_grad():        \n",
    "\n",
    "            # Forward pass, calculate logit predictions.\n",
    "            # token_type_ids is the same as the \"segment ids\", which \n",
    "            # differentiates sentence 1 and 2 in 2-sentence tasks.\n",
    "            result = model(b_input_ids, \n",
    "                           attention_mask=b_input_mask,\n",
    "                           extra_data = b_mcat,\n",
    "                           labels=b_labels)\n",
    "\n",
    "        # Get the loss and \"logits\" output by the model. The \"logits\" are the \n",
    "        # output values prior to applying an activation function like the \n",
    "        # softmax.\n",
    "        loss = result['loss']\n",
    "        logits = result['logits']\n",
    "            \n",
    "        # Accumulate the validation loss.\n",
    "        total_eval_loss += loss.item()\n",
    "\n",
    "        # Move logits and labels to CPU\n",
    "        logits = logits.detach().cpu().numpy()\n",
    "        label_ids = b_labels.to('cpu').numpy()\n",
    "\n",
    "        # Calculate the accuracy for this batch of test sentences, and\n",
    "        # accumulate it over all batches.\n",
    "        total_eval_accuracy += flat_accuracy(logits, label_ids)\n",
    "        \n",
    "\n",
    "    # Report the final accuracy for this validation run.\n",
    "    avg_val_accuracy = total_eval_accuracy / len(validation_dataloader)\n",
    "    print(\"  Accuracy: {0:.2f}\".format(avg_val_accuracy))\n",
    "\n",
    "    # Calculate the average loss over all of the batches.\n",
    "    avg_val_loss = total_eval_loss / len(validation_dataloader)\n",
    "    \n",
    "    # Measure how long the validation run took.\n",
    "    validation_time = format_time(time.time() - t0)\n",
    "    \n",
    "    print(\"  Validation Loss: {0:.2f}\".format(avg_val_loss))\n",
    "    print(\"  Validation took: {:}\".format(validation_time))\n",
    "\n",
    "    # Record all statistics from this epoch.\n",
    "    training_stats.append(\n",
    "        {\n",
    "            'epoch': epoch_i + 1,\n",
    "            'Training Loss': avg_train_loss,\n",
    "            'Valid. Loss': avg_val_loss,\n",
    "            'Valid. Accur.': avg_val_accuracy,\n",
    "            'Training Time': training_time,\n",
    "            'Validation Time': validation_time\n",
    "        }\n",
    "    )\n",
    "\n",
    "print(\"\")\n",
    "print(\"Training complete!\")\n",
    "\n",
    "print(\"Total training took {:} (h:mm:ss)\".format(format_time(time.time()-total_t0)))"
   ]
  },
  {
   "cell_type": "code",
   "execution_count": null,
   "metadata": {},
   "outputs": [],
   "source": [
    "import pandas as pd\n",
    "\n",
    "# Display floats with two decimal places.\n",
    "# pd.set_option('precision', 2)\n",
    "\n",
    "# Create a DataFrame from our training statistics.\n",
    "df_stats = pd.DataFrame(data=training_stats)\n",
    "\n",
    "# Use the 'epoch' as the row index.\n",
    "df_stats = df_stats.set_index('epoch')\n",
    "\n",
    "# A hack to force the column headers to wrap (doesn't seem to work in Colab).\n",
    "#df = df.style.set_table_styles([dict(selector=\"th\",props=[('max-width', '70px')])])\n",
    "\n",
    "# Display the table.\n",
    "df_stats"
   ]
  },
  {
   "cell_type": "code",
   "execution_count": null,
   "metadata": {},
   "outputs": [],
   "source": [
    "import matplotlib.pyplot as plt\n",
    "\n",
    "import seaborn as sns\n",
    "\n",
    "# Use plot styling from seaborn.\n",
    "sns.set(style='darkgrid')\n",
    "\n",
    "# Increase the plot size and font size.\n",
    "sns.set(font_scale=1.5)\n",
    "plt.rcParams[\"figure.figsize\"] = (12,6)\n",
    "\n",
    "# Plot the learning curve.\n",
    "plt.plot(df_stats['Training Loss'], 'b-o', label=\"Training\")\n",
    "plt.plot(df_stats['Valid. Loss'], 'g-o', label=\"Validation\")\n",
    "\n",
    "# Label the plot.\n",
    "plt.title(\"Training & Validation Loss\")\n",
    "plt.xlabel(\"Epoch\")\n",
    "plt.ylabel(\"Loss\")\n",
    "plt.legend()\n",
    "plt.xticks([1, 2, 3, 4])\n",
    "\n",
    "plt.show()"
   ]
  },
  {
   "cell_type": "code",
   "execution_count": null,
   "metadata": {},
   "outputs": [],
   "source": [
    "# Create a DataLoader to batch our test samples for us. We'll use a sequential\n",
    "# sampler this time--don't need this to be random!\n",
    "prediction_sampler = SequentialSampler(test_dataset)\n",
    "prediction_dataloader = DataLoader(test_dataset, sampler=prediction_sampler, batch_size=batch_size)\n",
    "\n",
    "print('Predicting labels for {:,} test sentences...'.format(len(test_dataset)))\n",
    "\n",
    "# Put model in evaluation mode\n",
    "model.eval()\n",
    "\n",
    "# Tracking variables \n",
    "predictions , true_labels = [], []\n",
    "\n",
    "# Predict \n",
    "for batch in prediction_dataloader:\n",
    "  # Add batch to GPU\n",
    "  batch = tuple(t.to(device) for t in batch)\n",
    "  \n",
    "  # Unpack the inputs from our dataloader\n",
    "  b_input_ids, b_input_mask, b_mcat, b_labels = batch\n",
    "  \n",
    "  # Telling the model not to compute or store gradients, saving memory and \n",
    "  # speeding up prediction\n",
    "  with torch.no_grad():\n",
    "      # Forward pass, calculate logit predictions.\n",
    "      result = model(b_input_ids, \n",
    "                        attention_mask=b_input_mask,\n",
    "                        extra_data = b_mcat,\n",
    "                        labels=b_labels)\n",
    "\n",
    "  logits = result[\"logits\"]\n",
    "\n",
    "  # Move logits and labels to CPU\n",
    "  logits = logits.detach().cpu().numpy()\n",
    "  label_ids = b_labels.to('cpu').numpy()\n",
    "  \n",
    "  # Store predictions and true labels\n",
    "  predictions.append(logits)\n",
    "  true_labels.append(label_ids)\n",
    "\n",
    "print('    DONE.')"
   ]
  },
  {
   "cell_type": "code",
   "execution_count": null,
   "metadata": {},
   "outputs": [],
   "source": [
    "# Combine the results across all batches. \n",
    "flat_predictions = np.concatenate(predictions, axis=0)\n",
    "\n",
    "# For each sample, pick the label (0 or 1) with the higher score.\n",
    "flat_predictions = np.argmax(flat_predictions, axis=1).flatten()\n",
    "\n",
    "# Combine the correct labels for each batch into a single list.\n",
    "flat_true_labels = np.concatenate(true_labels, axis=0)"
   ]
  },
  {
   "cell_type": "code",
   "execution_count": null,
   "metadata": {
    "tags": []
   },
   "outputs": [],
   "source": [
    "from sklearn.metrics import f1_score\n",
    "\n",
    "# Calculate the F1\n",
    "f1 = f1_score(flat_true_labels, flat_predictions, average='micro')\n",
    "\n",
    "print('F1 Score: %.3f' % f1)"
   ]
  }
 ],
 "metadata": {
  "kernelspec": {
   "display_name": "Python 3.9.4 ('ml')",
   "language": "python",
   "name": "python3"
  },
  "language_info": {
   "codemirror_mode": {
    "name": "ipython",
    "version": 3
   },
   "file_extension": ".py",
   "mimetype": "text/x-python",
   "name": "python",
   "nbconvert_exporter": "python",
   "pygments_lexer": "ipython3",
   "version": "3.9.4"
  },
  "vscode": {
   "interpreter": {
    "hash": "878f638c0221e3ed571cdde73b54e3475bde5ecfcad9b387fc5f53bd43ed1e31"
   }
  }
 },
 "nbformat": 4,
 "nbformat_minor": 4
}
